{
  "cells": [
    {
      "cell_type": "markdown",
      "metadata": {
        "id": "jNz6ZObMDrCT"
      },
      "source": [
        "*   Герен София\n",
        "*   Горшенина Майя\n",
        "*   Дамашова Заряна\n",
        "*   Черноусенко Софья\n",
        "\n",
        "# Описание проекта\n",
        "\n"
      ]
    },
    {
      "cell_type": "markdown",
      "metadata": {
        "id": "HBqZf03tELuE"
      },
      "source": [
        "**Корпус русских народных сказок**\n",
        "\n",
        "Корпус состоит из 120 русских народных сказок. Сказки взяты с сайта https://skazki-pesni.ru.\n",
        "\n",
        "github: https://github.com/ssofiyk/nlp_project\n",
        "\n",
        "презентация: https://docs.google.com/presentation/d/1wqGk9YKCIW9GFz12_5Y8YYw1XM_xNIL0gUSGdl6oiFA/edit?usp=sharing"
      ]
    },
    {
      "cell_type": "markdown",
      "metadata": {
        "id": "LAFuvBQK7N_I"
      },
      "source": [
        "### Скачиваем и импортируем все необходимые пакеты и библиотеки соответственно\n"
      ]
    },
    {
      "cell_type": "code",
      "execution_count": null,
      "metadata": {
        "collapsed": true,
        "id": "3FNJosjb7N_I",
        "outputId": "36918ee3-2785-4c0d-e25f-1e4f5f8f7f47",
        "colab": {
          "base_uri": "https://localhost:8080/"
        }
      },
      "outputs": [
        {
          "output_type": "stream",
          "name": "stdout",
          "text": [
            "Requirement already satisfied: pyyaml in /usr/local/lib/python3.10/dist-packages (6.0.2)\n",
            "Collecting ua-parser\n",
            "  Downloading ua_parser-0.18.0-py2.py3-none-any.whl.metadata (1.4 kB)\n",
            "Collecting user-agents\n",
            "  Downloading user_agents-2.2.0-py3-none-any.whl.metadata (7.9 kB)\n",
            "Downloading ua_parser-0.18.0-py2.py3-none-any.whl (38 kB)\n",
            "Downloading user_agents-2.2.0-py3-none-any.whl (9.6 kB)\n",
            "Installing collected packages: ua-parser, user-agents\n",
            "Successfully installed ua-parser-0.18.0 user-agents-2.2.0\n",
            "Collecting fake-useragent\n",
            "  Downloading fake_useragent-1.5.1-py3-none-any.whl.metadata (15 kB)\n",
            "Downloading fake_useragent-1.5.1-py3-none-any.whl (17 kB)\n",
            "Installing collected packages: fake-useragent\n",
            "Successfully installed fake-useragent-1.5.1\n",
            "Collecting razdel\n",
            "  Downloading razdel-0.5.0-py3-none-any.whl.metadata (10.0 kB)\n",
            "Downloading razdel-0.5.0-py3-none-any.whl (21 kB)\n",
            "Installing collected packages: razdel\n",
            "Successfully installed razdel-0.5.0\n",
            "  Preparing metadata (setup.py) ... \u001b[?25l\u001b[?25hdone\n",
            "  Preparing metadata (setup.py) ... \u001b[?25l\u001b[?25hdone\n",
            "\u001b[2K   \u001b[90m━━━━━━━━━━━━━━━━━━━━━━━━━━━━━━━━━━━━━━━━\u001b[0m \u001b[32m34.4/34.4 MB\u001b[0m \u001b[31m35.8 MB/s\u001b[0m eta \u001b[36m0:00:00\u001b[0m\n",
            "\u001b[2K   \u001b[90m━━━━━━━━━━━━━━━━━━━━━━━━━━━━━━━━━━━━━━━━\u001b[0m \u001b[32m46.7/46.7 kB\u001b[0m \u001b[31m3.0 MB/s\u001b[0m eta \u001b[36m0:00:00\u001b[0m\n",
            "\u001b[2K   \u001b[90m━━━━━━━━━━━━━━━━━━━━━━━━━━━━━━━━━━━━━━━━\u001b[0m \u001b[32m55.5/55.5 kB\u001b[0m \u001b[31m4.1 MB/s\u001b[0m eta \u001b[36m0:00:00\u001b[0m\n",
            "\u001b[2K   \u001b[90m━━━━━━━━━━━━━━━━━━━━━━━━━━━━━━━━━━━━━━━━\u001b[0m \u001b[32m8.2/8.2 MB\u001b[0m \u001b[31m66.4 MB/s\u001b[0m eta \u001b[36m0:00:00\u001b[0m\n",
            "\u001b[?25h  Building wheel for docopt (setup.py) ... \u001b[?25l\u001b[?25hdone\n",
            "  Building wheel for intervaltree (setup.py) ... \u001b[?25l\u001b[?25hdone\n",
            "Requirement already satisfied: pymorphy2 in /usr/local/lib/python3.10/dist-packages (0.9.1)\n",
            "Requirement already satisfied: dawg-python>=0.7.1 in /usr/local/lib/python3.10/dist-packages (from pymorphy2) (0.7.2)\n",
            "Requirement already satisfied: pymorphy2-dicts-ru<3.0,>=2.4 in /usr/local/lib/python3.10/dist-packages (from pymorphy2) (2.4.417127.4579844)\n",
            "Requirement already satisfied: docopt>=0.6 in /usr/local/lib/python3.10/dist-packages (from pymorphy2) (0.6.2)\n"
          ]
        }
      ],
      "source": [
        "!pip install pyyaml ua-parser user-agents\n",
        "!pip install fake-useragent\n",
        "!pip install razdel\n",
        "!pip install natasha slovnet navec -q\n",
        "!pip install pymorphy2"
      ]
    },
    {
      "cell_type": "code",
      "execution_count": null,
      "metadata": {
        "id": "0HsxD4bn7N_J",
        "colab": {
          "base_uri": "https://localhost:8080/"
        },
        "outputId": "0ec0d0eb-9e8a-473a-f628-1b08cfc0176e"
      },
      "outputs": [
        {
          "output_type": "stream",
          "name": "stderr",
          "text": [
            "[nltk_data] Downloading package punkt to /root/nltk_data...\n",
            "[nltk_data]   Unzipping tokenizers/punkt.zip.\n"
          ]
        }
      ],
      "source": [
        "import requests\n",
        "from bs4 import BeautifulSoup\n",
        "from fake_useragent import UserAgent\n",
        "from tqdm.auto import tqdm\n",
        "import pandas as pd\n",
        "import nltk\n",
        "from nltk.tokenize import sent_tokenize\n",
        "nltk.download('punkt')\n",
        "import itertools\n",
        "import re\n",
        "import pandas as pd\n",
        "import re\n",
        "import csv\n",
        "from natasha import (\n",
        "    Segmenter,\n",
        "    NewsEmbedding,\n",
        "    NewsMorphTagger,\n",
        "    NewsSyntaxParser,\n",
        "    Doc\n",
        ")\n",
        "from pymorphy2 import MorphAnalyzer\n",
        "from collections import Counter"
      ]
    },
    {
      "cell_type": "markdown",
      "metadata": {
        "id": "D_2DUaI9DurU"
      },
      "source": [
        "# 1. Парсинг"
      ]
    },
    {
      "cell_type": "code",
      "execution_count": null,
      "metadata": {
        "id": "Fq2l0g3gJPyu"
      },
      "outputs": [],
      "source": [
        "response = requests.get(\"https://skazki-pesni.ru/tema/russkie-narodnye-skazki/\")"
      ]
    },
    {
      "cell_type": "code",
      "execution_count": null,
      "metadata": {
        "colab": {
          "base_uri": "https://localhost:8080/"
        },
        "id": "987l_Q1HJP2h",
        "outputId": "d4ffaca4-21f2-431b-9814-fd635ff42418"
      },
      "outputs": [
        {
          "output_type": "execute_result",
          "data": {
            "text/plain": [
              "200"
            ]
          },
          "metadata": {},
          "execution_count": 5
        }
      ],
      "source": [
        "response.status_code"
      ]
    },
    {
      "cell_type": "code",
      "execution_count": null,
      "metadata": {
        "id": "B3CMA-YCJi0w"
      },
      "outputs": [],
      "source": [
        "ua = UserAgent()"
      ]
    },
    {
      "cell_type": "code",
      "execution_count": null,
      "metadata": {
        "id": "TkFA8dUPJi3c"
      },
      "outputs": [],
      "source": [
        "soup = BeautifulSoup(response.text, 'html.parser')"
      ]
    },
    {
      "cell_type": "code",
      "execution_count": null,
      "metadata": {
        "id": "njpd3sfEJi5h"
      },
      "outputs": [],
      "source": [
        "session = requests.session()"
      ]
    },
    {
      "cell_type": "code",
      "execution_count": null,
      "metadata": {
        "id": "hdIXnwnnJi8A"
      },
      "outputs": [],
      "source": [
        "response = session.get('https://skazki-pesni.ru/tema/russkie-narodnye-skazki/')"
      ]
    },
    {
      "cell_type": "code",
      "execution_count": null,
      "metadata": {
        "id": "FdwF7oPXJi-F"
      },
      "outputs": [],
      "source": [
        "ftales = soup.find_all('a', {'class': 'card'})"
      ]
    },
    {
      "cell_type": "code",
      "execution_count": null,
      "metadata": {
        "id": "bnRrdAaWJjAH"
      },
      "outputs": [],
      "source": [
        "# функция, обрабатывающая одну страницу сайта\n",
        "\n",
        "def get_nth_page(page_number):\n",
        "    # принимает - номер страницы\n",
        "    # возвращает - три списка (тексты, заголовки, ссылки всех сказок со страницы)\n",
        "\n",
        "    url = f'https://skazki-pesni.ru/tema/russkie-narodnye-skazki/page/{page_number}'\n",
        "    req = session.get(url)\n",
        "    page = req.text\n",
        "    soup = BeautifulSoup(page, 'html.parser')\n",
        "\n",
        "    ftales = soup.find_all('a', {'class': 'card'})\n",
        "\n",
        "    titles = []\n",
        "    hrefs = []\n",
        "    all_texts = []\n",
        "\n",
        "    for tale in ftales:\n",
        "        title = (tale.find('span', {'class': 'name'})).text\n",
        "        href = tale.attrs['href']\n",
        "\n",
        "        titles.append(title)\n",
        "        hrefs.append(href)\n",
        "\n",
        "    for href in hrefs:\n",
        "\n",
        "\n",
        "        req = session.get(href)\n",
        "        page = req.text\n",
        "        soup = BeautifulSoup(page, 'html.parser')\n",
        "\n",
        "        f_text = soup.find_all\n",
        "        full_text = soup.find('div', {'class' : 'text'}).text\n",
        "        full_text = full_text.replace('\\n', ' ')\n",
        "        all_texts.append(full_text)\n",
        "\n",
        "    return(all_texts, titles, hrefs)"
      ]
    },
    {
      "cell_type": "code",
      "execution_count": null,
      "metadata": {
        "id": "BJUHghw3JjJ4"
      },
      "outputs": [],
      "source": [
        "# функция для сбора данных с n страниц сайта\n",
        "\n",
        "def run_all(n_pages):\n",
        "    # принимает - количество страниц\n",
        "    # возвращает - список сказок с этого количества страниц\n",
        "    tales = []\n",
        "    for i in tqdm(range(n_pages)):\n",
        "        tales.extend(get_nth_page(i+1))\n",
        "\n",
        "    return tales"
      ]
    },
    {
      "cell_type": "code",
      "execution_count": null,
      "metadata": {
        "colab": {
          "base_uri": "https://localhost:8080/",
          "height": 49,
          "referenced_widgets": [
            "afa5acb23c204d5f85bc68b72f8e6f95",
            "c44ab72806c243aca4019d526f7151fe",
            "5491e76ec0ce4cdebe6048374197d156",
            "be579c20f3ad4efab25169c15d3607ac",
            "67285d3baf3940c789529d1a9e7209ec",
            "bdb0f3157cd041199d66b2f19f5ca7c2",
            "3a06449cd23a4ee4b188d7131439dceb",
            "23f00a7ce71a4782bf19487aad447d9f",
            "3708f271f91e4832bd532064c0eca604",
            "ceb2619a6a1746559396105d8bfadfdb",
            "df1e84c10ff44dbea6f23c7263f5c4c9"
          ]
        },
        "id": "iE-Uzp2ZJyym",
        "outputId": "bc3dd38f-fa77-40cf-f6ff-a4634b9c4e4d"
      },
      "outputs": [
        {
          "output_type": "display_data",
          "data": {
            "text/plain": [
              "  0%|          | 0/2 [00:00<?, ?it/s]"
            ],
            "application/vnd.jupyter.widget-view+json": {
              "version_major": 2,
              "version_minor": 0,
              "model_id": "afa5acb23c204d5f85bc68b72f8e6f95"
            }
          },
          "metadata": {}
        }
      ],
      "source": [
        "all_fairy_tales = run_all(2)"
      ]
    },
    {
      "cell_type": "markdown",
      "metadata": {
        "id": "Z1qyQIelEP_v"
      },
      "source": [
        "# 2. Создание базы данных"
      ]
    },
    {
      "cell_type": "code",
      "execution_count": null,
      "metadata": {
        "id": "RwFYtu2mJy1B"
      },
      "outputs": [],
      "source": [
        "df_page_1 = pd.DataFrame({\n",
        "   'name': all_fairy_tales[1],\n",
        "   'text': all_fairy_tales[0],\n",
        "    'href': all_fairy_tales[2],\n",
        "})"
      ]
    },
    {
      "cell_type": "code",
      "execution_count": null,
      "metadata": {
        "id": "kdcrLmgfJy3q"
      },
      "outputs": [],
      "source": [
        "df_page_2 = pd.DataFrame({\n",
        "   'name': all_fairy_tales[4],\n",
        "   'text': all_fairy_tales[3],\n",
        "    'href': all_fairy_tales[5]\n",
        "})"
      ]
    },
    {
      "cell_type": "code",
      "execution_count": null,
      "metadata": {
        "id": "QDxSkZ_vJy6M"
      },
      "outputs": [],
      "source": [
        "df_pages = pd.concat([df_page_1, df_page_2], axis=0, sort=False)"
      ]
    },
    {
      "cell_type": "code",
      "execution_count": null,
      "metadata": {
        "id": "0M54Op9iJy_I"
      },
      "outputs": [],
      "source": [
        "df_pages.index = [i for i in range (len(df_pages['name']))]"
      ]
    },
    {
      "cell_type": "code",
      "execution_count": null,
      "metadata": {
        "id": "lpQrloA6dYf9"
      },
      "outputs": [],
      "source": [
        "# разбиваем на предложения\n",
        "\n",
        "sents = []\n",
        "for text in df_pages['text']:\n",
        "    pattern = r'…(?=(?:\\s[A-ZА-ЯЁ])|(?=\\s?—\\s))'\n",
        "    replacement = '….'\n",
        "    text = re.sub(pattern, replacement, text)\n",
        "    text = re.sub(r'\\s+', ' ', text)\n",
        "    sentences = sent_tokenize(text)\n",
        "    sents.append(sentences)"
      ]
    },
    {
      "cell_type": "code",
      "execution_count": null,
      "metadata": {
        "id": "Yaau8p0ELeY3"
      },
      "outputs": [],
      "source": [
        "# делаем датафрейм с предложениями, названием сказки, ссылкой на источник\n",
        "\n",
        "names = list(df_pages['name'])\n",
        "hrefs = list(df_pages['href'])\n",
        "\n",
        "new_data = []\n",
        "new_names = []\n",
        "new_hrefs = []\n",
        "\n",
        "for text, name, href in itertools.zip_longest(sents, names, hrefs):\n",
        "    for sent in text:\n",
        "        new_data.append(sent)\n",
        "        new_names.append(name)\n",
        "        new_hrefs.append(href)\n",
        "\n",
        "\n",
        "df_sents = pd.DataFrame({'sents': new_data, 'name': new_names, 'href': new_hrefs})\n",
        "\n"
      ]
    },
    {
      "cell_type": "code",
      "execution_count": null,
      "metadata": {
        "id": "sWKNz-lXJzEL"
      },
      "outputs": [],
      "source": [
        "# добавляем предложения без пунктуации и приводим к нижнему регистру\n",
        "\n",
        "new_sent = []\n",
        "for sent in df_sents['sents']:\n",
        "    sent = re.sub(r'[^\\w\\s-]', ' ', sent)\n",
        "    sent = re.sub(r'\\s+', ' ', sent)\n",
        "    new_sent.append(sent.lower())"
      ]
    },
    {
      "cell_type": "code",
      "execution_count": null,
      "metadata": {
        "id": "CWNJzg12JOek"
      },
      "outputs": [],
      "source": [
        "df_sents['sent_without'] = new_sent"
      ]
    },
    {
      "cell_type": "code",
      "execution_count": null,
      "metadata": {
        "colab": {
          "base_uri": "https://localhost:8080/",
          "height": 289
        },
        "id": "ByJnod5fJOmk",
        "outputId": "52c6db15-1b2c-49f5-fb90-1c17a5ec10ff"
      },
      "outputs": [
        {
          "output_type": "execute_result",
          "data": {
            "text/plain": [
              "                                               sents     name  \\\n",
              "0                              Cтоит в поле теремок.  Теремок   \n",
              "1                          Бежит мимо мышка-норушка.  Теремок   \n",
              "2  Увидела теремок, остановилась и спрашивает: – ...  Теремок   \n",
              "3                                Кто в тереме живёт?  Теремок   \n",
              "4                               Никто не отзывается.  Теремок   \n",
              "\n",
              "                               href  \\\n",
              "0  https://skazki-pesni.ru/teremok/   \n",
              "1  https://skazki-pesni.ru/teremok/   \n",
              "2  https://skazki-pesni.ru/teremok/   \n",
              "3  https://skazki-pesni.ru/teremok/   \n",
              "4  https://skazki-pesni.ru/teremok/   \n",
              "\n",
              "                                        sent_without  \n",
              "0                              cтоит в поле теремок   \n",
              "1                          бежит мимо мышка-норушка   \n",
              "2  увидела теремок остановилась и спрашивает тере...  \n",
              "3                                кто в тереме живёт   \n",
              "4                               никто не отзывается   "
            ],
            "text/html": [
              "\n",
              "  <div id=\"df-365c2b7d-ef71-4bdd-8611-6c8e70247fe9\" class=\"colab-df-container\">\n",
              "    <div>\n",
              "<style scoped>\n",
              "    .dataframe tbody tr th:only-of-type {\n",
              "        vertical-align: middle;\n",
              "    }\n",
              "\n",
              "    .dataframe tbody tr th {\n",
              "        vertical-align: top;\n",
              "    }\n",
              "\n",
              "    .dataframe thead th {\n",
              "        text-align: right;\n",
              "    }\n",
              "</style>\n",
              "<table border=\"1\" class=\"dataframe\">\n",
              "  <thead>\n",
              "    <tr style=\"text-align: right;\">\n",
              "      <th></th>\n",
              "      <th>sents</th>\n",
              "      <th>name</th>\n",
              "      <th>href</th>\n",
              "      <th>sent_without</th>\n",
              "    </tr>\n",
              "  </thead>\n",
              "  <tbody>\n",
              "    <tr>\n",
              "      <th>0</th>\n",
              "      <td>Cтоит в поле теремок.</td>\n",
              "      <td>Теремок</td>\n",
              "      <td>https://skazki-pesni.ru/teremok/</td>\n",
              "      <td>cтоит в поле теремок</td>\n",
              "    </tr>\n",
              "    <tr>\n",
              "      <th>1</th>\n",
              "      <td>Бежит мимо мышка-норушка.</td>\n",
              "      <td>Теремок</td>\n",
              "      <td>https://skazki-pesni.ru/teremok/</td>\n",
              "      <td>бежит мимо мышка-норушка</td>\n",
              "    </tr>\n",
              "    <tr>\n",
              "      <th>2</th>\n",
              "      <td>Увидела теремок, остановилась и спрашивает: – ...</td>\n",
              "      <td>Теремок</td>\n",
              "      <td>https://skazki-pesni.ru/teremok/</td>\n",
              "      <td>увидела теремок остановилась и спрашивает тере...</td>\n",
              "    </tr>\n",
              "    <tr>\n",
              "      <th>3</th>\n",
              "      <td>Кто в тереме живёт?</td>\n",
              "      <td>Теремок</td>\n",
              "      <td>https://skazki-pesni.ru/teremok/</td>\n",
              "      <td>кто в тереме живёт</td>\n",
              "    </tr>\n",
              "    <tr>\n",
              "      <th>4</th>\n",
              "      <td>Никто не отзывается.</td>\n",
              "      <td>Теремок</td>\n",
              "      <td>https://skazki-pesni.ru/teremok/</td>\n",
              "      <td>никто не отзывается</td>\n",
              "    </tr>\n",
              "  </tbody>\n",
              "</table>\n",
              "</div>\n",
              "    <div class=\"colab-df-buttons\">\n",
              "\n",
              "  <div class=\"colab-df-container\">\n",
              "    <button class=\"colab-df-convert\" onclick=\"convertToInteractive('df-365c2b7d-ef71-4bdd-8611-6c8e70247fe9')\"\n",
              "            title=\"Convert this dataframe to an interactive table.\"\n",
              "            style=\"display:none;\">\n",
              "\n",
              "  <svg xmlns=\"http://www.w3.org/2000/svg\" height=\"24px\" viewBox=\"0 -960 960 960\">\n",
              "    <path d=\"M120-120v-720h720v720H120Zm60-500h600v-160H180v160Zm220 220h160v-160H400v160Zm0 220h160v-160H400v160ZM180-400h160v-160H180v160Zm440 0h160v-160H620v160ZM180-180h160v-160H180v160Zm440 0h160v-160H620v160Z\"/>\n",
              "  </svg>\n",
              "    </button>\n",
              "\n",
              "  <style>\n",
              "    .colab-df-container {\n",
              "      display:flex;\n",
              "      gap: 12px;\n",
              "    }\n",
              "\n",
              "    .colab-df-convert {\n",
              "      background-color: #E8F0FE;\n",
              "      border: none;\n",
              "      border-radius: 50%;\n",
              "      cursor: pointer;\n",
              "      display: none;\n",
              "      fill: #1967D2;\n",
              "      height: 32px;\n",
              "      padding: 0 0 0 0;\n",
              "      width: 32px;\n",
              "    }\n",
              "\n",
              "    .colab-df-convert:hover {\n",
              "      background-color: #E2EBFA;\n",
              "      box-shadow: 0px 1px 2px rgba(60, 64, 67, 0.3), 0px 1px 3px 1px rgba(60, 64, 67, 0.15);\n",
              "      fill: #174EA6;\n",
              "    }\n",
              "\n",
              "    .colab-df-buttons div {\n",
              "      margin-bottom: 4px;\n",
              "    }\n",
              "\n",
              "    [theme=dark] .colab-df-convert {\n",
              "      background-color: #3B4455;\n",
              "      fill: #D2E3FC;\n",
              "    }\n",
              "\n",
              "    [theme=dark] .colab-df-convert:hover {\n",
              "      background-color: #434B5C;\n",
              "      box-shadow: 0px 1px 3px 1px rgba(0, 0, 0, 0.15);\n",
              "      filter: drop-shadow(0px 1px 2px rgba(0, 0, 0, 0.3));\n",
              "      fill: #FFFFFF;\n",
              "    }\n",
              "  </style>\n",
              "\n",
              "    <script>\n",
              "      const buttonEl =\n",
              "        document.querySelector('#df-365c2b7d-ef71-4bdd-8611-6c8e70247fe9 button.colab-df-convert');\n",
              "      buttonEl.style.display =\n",
              "        google.colab.kernel.accessAllowed ? 'block' : 'none';\n",
              "\n",
              "      async function convertToInteractive(key) {\n",
              "        const element = document.querySelector('#df-365c2b7d-ef71-4bdd-8611-6c8e70247fe9');\n",
              "        const dataTable =\n",
              "          await google.colab.kernel.invokeFunction('convertToInteractive',\n",
              "                                                    [key], {});\n",
              "        if (!dataTable) return;\n",
              "\n",
              "        const docLinkHtml = 'Like what you see? Visit the ' +\n",
              "          '<a target=\"_blank\" href=https://colab.research.google.com/notebooks/data_table.ipynb>data table notebook</a>'\n",
              "          + ' to learn more about interactive tables.';\n",
              "        element.innerHTML = '';\n",
              "        dataTable['output_type'] = 'display_data';\n",
              "        await google.colab.output.renderOutput(dataTable, element);\n",
              "        const docLink = document.createElement('div');\n",
              "        docLink.innerHTML = docLinkHtml;\n",
              "        element.appendChild(docLink);\n",
              "      }\n",
              "    </script>\n",
              "  </div>\n",
              "\n",
              "\n",
              "<div id=\"df-72a93b2b-d6ec-4940-9b83-94974122795b\">\n",
              "  <button class=\"colab-df-quickchart\" onclick=\"quickchart('df-72a93b2b-d6ec-4940-9b83-94974122795b')\"\n",
              "            title=\"Suggest charts\"\n",
              "            style=\"display:none;\">\n",
              "\n",
              "<svg xmlns=\"http://www.w3.org/2000/svg\" height=\"24px\"viewBox=\"0 0 24 24\"\n",
              "     width=\"24px\">\n",
              "    <g>\n",
              "        <path d=\"M19 3H5c-1.1 0-2 .9-2 2v14c0 1.1.9 2 2 2h14c1.1 0 2-.9 2-2V5c0-1.1-.9-2-2-2zM9 17H7v-7h2v7zm4 0h-2V7h2v10zm4 0h-2v-4h2v4z\"/>\n",
              "    </g>\n",
              "</svg>\n",
              "  </button>\n",
              "\n",
              "<style>\n",
              "  .colab-df-quickchart {\n",
              "      --bg-color: #E8F0FE;\n",
              "      --fill-color: #1967D2;\n",
              "      --hover-bg-color: #E2EBFA;\n",
              "      --hover-fill-color: #174EA6;\n",
              "      --disabled-fill-color: #AAA;\n",
              "      --disabled-bg-color: #DDD;\n",
              "  }\n",
              "\n",
              "  [theme=dark] .colab-df-quickchart {\n",
              "      --bg-color: #3B4455;\n",
              "      --fill-color: #D2E3FC;\n",
              "      --hover-bg-color: #434B5C;\n",
              "      --hover-fill-color: #FFFFFF;\n",
              "      --disabled-bg-color: #3B4455;\n",
              "      --disabled-fill-color: #666;\n",
              "  }\n",
              "\n",
              "  .colab-df-quickchart {\n",
              "    background-color: var(--bg-color);\n",
              "    border: none;\n",
              "    border-radius: 50%;\n",
              "    cursor: pointer;\n",
              "    display: none;\n",
              "    fill: var(--fill-color);\n",
              "    height: 32px;\n",
              "    padding: 0;\n",
              "    width: 32px;\n",
              "  }\n",
              "\n",
              "  .colab-df-quickchart:hover {\n",
              "    background-color: var(--hover-bg-color);\n",
              "    box-shadow: 0 1px 2px rgba(60, 64, 67, 0.3), 0 1px 3px 1px rgba(60, 64, 67, 0.15);\n",
              "    fill: var(--button-hover-fill-color);\n",
              "  }\n",
              "\n",
              "  .colab-df-quickchart-complete:disabled,\n",
              "  .colab-df-quickchart-complete:disabled:hover {\n",
              "    background-color: var(--disabled-bg-color);\n",
              "    fill: var(--disabled-fill-color);\n",
              "    box-shadow: none;\n",
              "  }\n",
              "\n",
              "  .colab-df-spinner {\n",
              "    border: 2px solid var(--fill-color);\n",
              "    border-color: transparent;\n",
              "    border-bottom-color: var(--fill-color);\n",
              "    animation:\n",
              "      spin 1s steps(1) infinite;\n",
              "  }\n",
              "\n",
              "  @keyframes spin {\n",
              "    0% {\n",
              "      border-color: transparent;\n",
              "      border-bottom-color: var(--fill-color);\n",
              "      border-left-color: var(--fill-color);\n",
              "    }\n",
              "    20% {\n",
              "      border-color: transparent;\n",
              "      border-left-color: var(--fill-color);\n",
              "      border-top-color: var(--fill-color);\n",
              "    }\n",
              "    30% {\n",
              "      border-color: transparent;\n",
              "      border-left-color: var(--fill-color);\n",
              "      border-top-color: var(--fill-color);\n",
              "      border-right-color: var(--fill-color);\n",
              "    }\n",
              "    40% {\n",
              "      border-color: transparent;\n",
              "      border-right-color: var(--fill-color);\n",
              "      border-top-color: var(--fill-color);\n",
              "    }\n",
              "    60% {\n",
              "      border-color: transparent;\n",
              "      border-right-color: var(--fill-color);\n",
              "    }\n",
              "    80% {\n",
              "      border-color: transparent;\n",
              "      border-right-color: var(--fill-color);\n",
              "      border-bottom-color: var(--fill-color);\n",
              "    }\n",
              "    90% {\n",
              "      border-color: transparent;\n",
              "      border-bottom-color: var(--fill-color);\n",
              "    }\n",
              "  }\n",
              "</style>\n",
              "\n",
              "  <script>\n",
              "    async function quickchart(key) {\n",
              "      const quickchartButtonEl =\n",
              "        document.querySelector('#' + key + ' button');\n",
              "      quickchartButtonEl.disabled = true;  // To prevent multiple clicks.\n",
              "      quickchartButtonEl.classList.add('colab-df-spinner');\n",
              "      try {\n",
              "        const charts = await google.colab.kernel.invokeFunction(\n",
              "            'suggestCharts', [key], {});\n",
              "      } catch (error) {\n",
              "        console.error('Error during call to suggestCharts:', error);\n",
              "      }\n",
              "      quickchartButtonEl.classList.remove('colab-df-spinner');\n",
              "      quickchartButtonEl.classList.add('colab-df-quickchart-complete');\n",
              "    }\n",
              "    (() => {\n",
              "      let quickchartButtonEl =\n",
              "        document.querySelector('#df-72a93b2b-d6ec-4940-9b83-94974122795b button');\n",
              "      quickchartButtonEl.style.display =\n",
              "        google.colab.kernel.accessAllowed ? 'block' : 'none';\n",
              "    })();\n",
              "  </script>\n",
              "</div>\n",
              "\n",
              "    </div>\n",
              "  </div>\n"
            ],
            "application/vnd.google.colaboratory.intrinsic+json": {
              "type": "dataframe",
              "variable_name": "df_sents",
              "summary": "{\n  \"name\": \"df_sents\",\n  \"rows\": 9123,\n  \"fields\": [\n    {\n      \"column\": \"sents\",\n      \"properties\": {\n        \"dtype\": \"string\",\n        \"num_unique_values\": 8779,\n        \"samples\": [\n          \"\\u0412\\u0435\\u0434\\u044c \\u0433\\u043e\\u0432\\u043e\\u0440\\u0438\\u043b \\u2014 \\u0434\\u0435\\u0440\\u0436\\u0438 \\u0432\\u043b\\u0435\\u0432\\u043e.\",\n          \"\\u2014 \\u0410 \\u043d\\u0435\\u0442 \\u043b\\u0438 \\u0443 \\u0442\\u0435\\u0431\\u044f, \\u0445\\u043e\\u0437\\u044f\\u044e\\u0448\\u043a\\u0430, \\u043f\\u0435\\u0440\\u0435\\u043a\\u0443\\u0441\\u0438\\u0442\\u044c \\u0447\\u0435\\u0433\\u043e?\",\n          \"\\u041f\\u043b\\u044b\\u043b\\u0438-\\u043f\\u043b\\u044b\\u043b\\u0438.\"\n        ],\n        \"semantic_type\": \"\",\n        \"description\": \"\"\n      }\n    },\n    {\n      \"column\": \"name\",\n      \"properties\": {\n        \"dtype\": \"category\",\n        \"num_unique_values\": 120,\n        \"samples\": [\n          \"\\u041d\\u0430\\u043a\\u0430\\u0437\\u0430\\u043d\\u043d\\u0430\\u044f \\u0446\\u0430\\u0440\\u0435\\u0432\\u043d\\u0430\",\n          \"\\u0414\\u043e\\u0447\\u044c \\u0438 \\u043f\\u0430\\u0434\\u0447\\u0435\\u0440\\u0438\\u0446\\u0430\",\n          \"\\u0421\\u043d\\u0435\\u0433\\u0443\\u0440\\u043e\\u0447\\u043a\\u0430\"\n        ],\n        \"semantic_type\": \"\",\n        \"description\": \"\"\n      }\n    },\n    {\n      \"column\": \"href\",\n      \"properties\": {\n        \"dtype\": \"category\",\n        \"num_unique_values\": 120,\n        \"samples\": [\n          \"https://skazki-pesni.ru/nakazannaya-tsarevna/\",\n          \"https://skazki-pesni.ru/doch-i-padcheritsa/\",\n          \"https://skazki-pesni.ru/snegurochka-2/\"\n        ],\n        \"semantic_type\": \"\",\n        \"description\": \"\"\n      }\n    },\n    {\n      \"column\": \"sent_without\",\n      \"properties\": {\n        \"dtype\": \"string\",\n        \"num_unique_values\": 8758,\n        \"samples\": [\n          \"\\u0443\\u0432\\u0438\\u0434\\u0435\\u043b\\u0430 \\u043e\\u043d\\u0430 \\u044d\\u0442\\u043e \\u043f\\u043b\\u0430\\u0442\\u044c\\u0435 \\u0438 \\u0440\\u0443\\u043a\\u0430\\u043c\\u0438 \\u0432\\u0441\\u043f\\u043b\\u0435\\u0441\\u043d\\u0443\\u043b\\u0430 \",\n          \" \\u0443\\u0436 \\u0442\\u0430\\u043a \\u0445\\u043e\\u0440\\u043e\\u0448\\u0430 \\u0433\\u043b\\u0430\\u0437 \\u043d\\u0435 \\u043e\\u0442\\u0432\\u0435\\u0441\\u0442\\u0438 \",\n          \" \\u0432\\u043e\\u0442 \\u044d\\u0442\\u043e\\u0442 \\u0431\\u0430\\u0440\\u0430\\u043d\\u0447\\u0438\\u043a \\u0434\\u0430\\u0441\\u0442 \"\n        ],\n        \"semantic_type\": \"\",\n        \"description\": \"\"\n      }\n    }\n  ]\n}"
            }
          },
          "metadata": {},
          "execution_count": 24
        }
      ],
      "source": [
        "df_sents.head()"
      ]
    },
    {
      "cell_type": "code",
      "execution_count": null,
      "metadata": {
        "id": "d2_HzuZHEQOG"
      },
      "outputs": [],
      "source": [
        "df_sents.to_csv(\"fairy_tales_razdel_full.csv\", encoding='utf-8')"
      ]
    },
    {
      "cell_type": "markdown",
      "metadata": {
        "id": "x-Kifs1wGFj5"
      },
      "source": [
        "https://docs.google.com/spreadsheets/d/1hHpGsoV7rZtBskfFoWTIQeVx7Y-rpcezmabFvMT3qK0/edit?usp=sharing"
      ]
    },
    {
      "cell_type": "markdown",
      "metadata": {
        "id": "OSKBfmhsEQcC"
      },
      "source": [
        "# 3. Обработка запроса и поиск предложений"
      ]
    },
    {
      "cell_type": "markdown",
      "metadata": {
        "id": "BpKxL4I1EnVI"
      },
      "source": [
        "## 3.1. Лемматизация и токенизация"
      ]
    },
    {
      "cell_type": "code",
      "execution_count": null,
      "metadata": {
        "id": "6fXG5H4KlYxo"
      },
      "outputs": [],
      "source": [
        "# Инициализация модулей Natasha\n",
        "segmenter = Segmenter()\n",
        "emb = NewsEmbedding()\n",
        "morph_tagger = NewsMorphTagger(emb)\n",
        "syntax_parser = NewsSyntaxParser(emb)\n",
        "\n",
        "# Инициализация Pymorphy2 для морфологического анализа\n",
        "morphology = MorphAnalyzer()"
      ]
    },
    {
      "cell_type": "code",
      "execution_count": null,
      "metadata": {
        "id": "7XWlJc4gOStb"
      },
      "outputs": [],
      "source": [
        "# Чтение исходного CSV файла\n",
        "df = pd.read_csv('fairy_tales_razdel_full.csv')"
      ]
    },
    {
      "cell_type": "markdown",
      "metadata": {
        "id": "gQtliGMkhN60"
      },
      "source": [
        "формат файла **corpus.csv** (sep=',')\n",
        "\n",
        "\n",
        "*   sents - предложение в исходном виде\n",
        "*   tokens - все токены (sep=';')\n",
        "*   pos_tags - части речи всех токенов (sep=';')\n",
        "*   lemmas - леммы всех токенов (sep=';')\n",
        "*   name - название произведения\n",
        "*   href - ссылка на произведение\n",
        "*   sent_without - предложение без знаков препинания и заглавных букв (через пробелы)\n",
        "\n",
        "пример\n",
        "\n",
        "*   – Иди ко мне жить!\n",
        "*   Иди;ко;мне;жить\n",
        "*   VERB;ADP;PRON;VERB\n",
        "*   идти;к;я;жить\n",
        "*   Теремок\n",
        "*   https://skazki-pesni.ru/teremok/\n",
        "*   иди ко мне жить\n",
        "\n"
      ]
    },
    {
      "cell_type": "code",
      "execution_count": null,
      "metadata": {
        "id": "aqcCJ8B4lifC",
        "outputId": "f4b43c9b-8f68-4ef8-853d-a7c0895d9fb5",
        "colab": {
          "base_uri": "https://localhost:8080/"
        }
      },
      "outputs": [
        {
          "output_type": "stream",
          "name": "stdout",
          "text": [
            "POS-теггинг и лемматизация завершены, результаты сохранены в 'corpus.csv'\n"
          ]
        }
      ],
      "source": [
        "# Открытие нового CSV файла для записи результатов\n",
        "with open('corpus.csv', mode='w', newline='', encoding='utf-8') as file:\n",
        "    writer = csv.writer(file)\n",
        "    writer.writerow(['sents', 'tokens', 'pos_tags', 'lemmas', 'name', 'href', 'sent_without'])\n",
        "\n",
        "    # Обработка строк из исходного DataFrame\n",
        "    for index, row in df.iterrows():\n",
        "        sentence = row['sents']\n",
        "        name = row['name']\n",
        "        href = row['href']\n",
        "        sent_without = row['sent_without']\n",
        "\n",
        "        # Выполняем POS-теггинг и лемматизацию\n",
        "        doc = Doc(sentence)\n",
        "        doc.segment(segmenter)\n",
        "        doc.tag_morph(morph_tagger)\n",
        "\n",
        "        tokens_nat = []\n",
        "\n",
        "        for sent in doc.sents:\n",
        "            for token in sent.tokens:\n",
        "                word = token.text\n",
        "                tag = token.pos\n",
        "                if tag != 'PUNCT':\n",
        "                    lemma = morphology.parse(word)[0].normal_form  # Лемматизация через Pymorphy2\n",
        "                    tokens_nat.append((word, tag, lemma))\n",
        "\n",
        "        # Преобразуем токены для записи в CSV\n",
        "        tokens_str = \";\".join([t[0] for t in tokens_nat])\n",
        "        pos_tags_str = \";\".join([t[1] for t in tokens_nat])\n",
        "        lemmas_str = \";\".join([t[2] for t in tokens_nat])\n",
        "\n",
        "        # Запись данных в CSV\n",
        "        writer.writerow([sentence, tokens_str, pos_tags_str, lemmas_str, name, href, sent_without])\n",
        "\n",
        "print(\"POS-теггинг и лемматизация завершены, результаты сохранены в 'corpus.csv'\")"
      ]
    },
    {
      "cell_type": "markdown",
      "metadata": {
        "id": "Vh6WYMyNZimy"
      },
      "source": [
        "## 3.2. Проверка конкретного слова на соответствие запросу"
      ]
    },
    {
      "cell_type": "markdown",
      "metadata": {
        "id": "0gyDdwJFEttJ"
      },
      "source": [
        "Функция для проверки всех форм слова, игнорируя регистр"
      ]
    },
    {
      "cell_type": "code",
      "execution_count": null,
      "metadata": {
        "id": "6l0LQB09FHYr"
      },
      "outputs": [],
      "source": [
        "def check_word_form(request_part, row, word_ix):\n",
        "    # принимает:\n",
        "    # часть запроса (например, знать),\n",
        "    # строку df с данными одного предложения\n",
        "    # номер токена в этой строке, который мы проверяем\n",
        "\n",
        "    # возвращает: bool, подходит ли этот токен под запрос\n",
        "\n",
        "    # Лемматизируем запрос\n",
        "    request_lemma = morphology.parse(request_part.lower())[0].normal_form  # Приводим запрос к нижнему регистру\n",
        "\n",
        "    word_lemma = row['lemmas'].split(';')[word_ix]\n",
        "\n",
        "    return request_lemma == word_lemma"
      ]
    },
    {
      "cell_type": "markdown",
      "metadata": {
        "id": "wX6jPwapFF_q"
      },
      "source": [
        "Функция для проверки точной формы слова без учета регистра"
      ]
    },
    {
      "cell_type": "code",
      "execution_count": null,
      "metadata": {
        "id": "Qv52PmXYFLtk"
      },
      "outputs": [],
      "source": [
        "def check_exact_form(request_part, row, word_ix):\n",
        "    # принимает:\n",
        "    # часть запроса уже без кавычек (например, знает),\n",
        "    # строку df с данными одного предложения\n",
        "    # номер токена в этой строке, который мы проверяем\n",
        "\n",
        "    # возвращает: bool, подходит ли этот токен под запрос\n",
        "\n",
        "    return request_part.lower() == row['tokens'].split(';')[word_ix].lower()"
      ]
    },
    {
      "cell_type": "markdown",
      "metadata": {
        "id": "zB5Rgc9SFOEZ"
      },
      "source": [
        "Функция для проверки по лемме и тегу части речи"
      ]
    },
    {
      "cell_type": "code",
      "execution_count": null,
      "metadata": {
        "id": "o-51ZuI5FObI"
      },
      "outputs": [],
      "source": [
        "def check_lemma_and_pos(request_part, row, word_ix):\n",
        "    # принимает:\n",
        "    # часть запроса (например, знать+VERB),\n",
        "    # строку df с данными одного предложения\n",
        "    # номер токена в этой строке, который мы проверяем\n",
        "\n",
        "    # возвращает: bool, подходит ли этот токен под запрос\n",
        "\n",
        "    request = request_part.split('+')\n",
        "    request_lemma = request[0].lower()\n",
        "    request_pos = request[1]\n",
        "\n",
        "    word_lemma = row['lemmas'].split(';')[word_ix]\n",
        "    word_pos = row['pos_tags'].split(';')[word_ix]\n",
        "\n",
        "    if request_lemma == word_lemma and request_pos == word_pos:\n",
        "        return True\n",
        "    return False"
      ]
    },
    {
      "cell_type": "markdown",
      "metadata": {
        "id": "rk8CxwZ4FOsH"
      },
      "source": [
        "Функция для проверки соответствия частеречного тега"
      ]
    },
    {
      "cell_type": "code",
      "execution_count": null,
      "metadata": {
        "id": "fRUuugenFPKg"
      },
      "outputs": [],
      "source": [
        "def check_pos(request_part, row, word_ix):\n",
        "    # принимает:\n",
        "    # часть запроса (например, VERB),\n",
        "    # строку df с данными одного предложения\n",
        "    # номер токена в этой строке, который мы проверяем\n",
        "\n",
        "    # возвращает: bool, подходит ли этот токен под запрос\n",
        "\n",
        "    word_pos = row['pos_tags'].split(';')[word_ix]\n",
        "    return request_part == word_pos"
      ]
    },
    {
      "cell_type": "markdown",
      "metadata": {
        "id": "enBrRzVfFXaX"
      },
      "source": [
        "Функция для вызова нужной из четырех функций выше в зависимости от запроса"
      ]
    },
    {
      "cell_type": "code",
      "execution_count": null,
      "metadata": {
        "id": "E-UQ-mmyFfBk"
      },
      "outputs": [],
      "source": [
        "def word_fits_request_part(request_part, row, word_ix):\n",
        "    # принимает:\n",
        "    # часть запроса (например, знать+VERB),\n",
        "    # строку df с данными одного предложения\n",
        "    # номер токена в этой строке, который мы проверяем\n",
        "\n",
        "    # возвращает: bool, подходит ли этот токен под запрос\n",
        "\n",
        "    if '\"' in request_part:\n",
        "        # Запрос точной формы без учетам регистра\n",
        "        request = request_part.strip('\"').lower()\n",
        "        word_res = check_exact_form(request, row, word_ix)\n",
        "    elif '+' in request_part:\n",
        "        # Запрос по лемме и части речи\n",
        "        word_res = check_lemma_and_pos(request_part, row, word_ix)\n",
        "    elif all((ord('A') <= ord(ch) <= ord('Z')) for ch in request_part):\n",
        "        # Запрос по POS тегу - заглавные латинские буквы\n",
        "        word_res = check_pos(request_part, row, word_ix)\n",
        "    else:\n",
        "        # Запрос всех форм слова, игнорируя регистр\n",
        "        word_res = check_word_form(request_part, row, word_ix)\n",
        "    return word_res"
      ]
    },
    {
      "cell_type": "markdown",
      "metadata": {
        "id": "SYyooESNX8LS"
      },
      "source": [
        "## 3.3. Основная функция поиска"
      ]
    },
    {
      "cell_type": "code",
      "execution_count": null,
      "metadata": {
        "id": "4JT3La9zEt-9"
      },
      "outputs": [],
      "source": [
        "# Загрузка данных из файла\n",
        "corpus_data = pd.read_csv(\"corpus.csv\", delimiter=\",\")"
      ]
    },
    {
      "cell_type": "markdown",
      "source": [
        "формат структуры **matching_sentences**\n",
        "\n",
        "строки хранятся в том виде, в котором их увидит пользователь\n",
        "0. левый контекст примера\n",
        "1. центральный контекст примера (соответствует запросу)\n",
        "2. правый контекст примера\n",
        "3. источник примера\n",
        "\n",
        "пример\n",
        "\n",
        "0. Те братья работают, а Емеля целый день лежит на печке,\n",
        "1. знать ничего не\n",
        "2. хочет.\n",
        "3. Предложение из По щучьему велению https://skazki-pesni.ru/po-shhuchemu-veleniyu/"
      ],
      "metadata": {
        "id": "QAPqCcN5akO9"
      }
    },
    {
      "cell_type": "code",
      "execution_count": null,
      "metadata": {
        "id": "L17g7FsvJtND"
      },
      "outputs": [],
      "source": [
        "def search(request, corpus_data):\n",
        "    # принимает:\n",
        "    # запрос (например, знать+VERB \"ничего\" \"не\"),\n",
        "    # df с данными всех предложений\n",
        "\n",
        "    # возвращает:\n",
        "    # список данных всех предложений которые подошли под запрос (формат см выше)\n",
        "\n",
        "    request_parts = request.split(' ')\n",
        "    request_length = len(request_parts)\n",
        "    matching_sentences = []\n",
        "\n",
        "    for _, row in corpus_data.iterrows():\n",
        "        tokens = row['tokens'].split(';')\n",
        "        dirty_tokens = row['sents'].strip().replace('— ', '—').replace('– ', '–').replace(' !', '!').replace(',—', ', —').replace(' ,', ',').replace('е.Н', 'е. Н').split(' ')  # для вывода со знаками препинания\n",
        "\n",
        "        for token_i in range(len(tokens) - request_length + 1):\n",
        "            phrase_res = True  # Предполагаем, что н-грамма подойдёт\n",
        "            for j in range(request_length):\n",
        "                if not word_fits_request_part(request_parts[j], row, token_i + j):\n",
        "                    phrase_res = False  # Н-грамма не подходит\n",
        "                    break\n",
        "\n",
        "            if phrase_res:\n",
        "                # Нашли подходящую n-грамму!\n",
        "                phrase_start = token_i  # номер первого токена в этой н-грамме\n",
        "                phrase_end = token_i + request_length - 1\n",
        "                collocation = ' '.join(dirty_tokens[phrase_start:phrase_end + 1])  # центральный контекст\n",
        "                left_cont = ' '.join(dirty_tokens[:phrase_start])  # левый контекст\n",
        "                right_cont = ' '.join(dirty_tokens[phrase_end + 1:])  # правый контекст\n",
        "                matching_sentences.append([left_cont, collocation, right_cont, row['name'] + ' ' + row['href']])\n",
        "            # Переходим к следующему токену\n",
        "        # Переходим к следующему предложению\n",
        "    return matching_sentences\n"
      ]
    },
    {
      "cell_type": "markdown",
      "metadata": {
        "id": "jUzw_ZZwESEd"
      },
      "source": [
        "# 4. Поиск коллокаций"
      ]
    },
    {
      "cell_type": "markdown",
      "metadata": {
        "id": "lalBhKSw1J95"
      },
      "source": [
        "Функция для поиска и вывода частотности коллокаций с введенным запросом"
      ]
    },
    {
      "cell_type": "code",
      "execution_count": null,
      "metadata": {
        "id": "GWE4hqMUESYZ"
      },
      "outputs": [],
      "source": [
        "def get_collocations(lines):\n",
        "    # принимает:\n",
        "    # список данных всех предложений которые подошли под запрос (формат см выше)\n",
        "\n",
        "    # возвращает:\n",
        "    # Counter содержащий коллокации\n",
        "    collocations = Counter()\n",
        "    for line in lines:\n",
        "        # Вытаскиваем центр, левый и правый контекст\n",
        "        center = re.sub(r'[^\\w\\s-]', '', line[1]).lower()\n",
        "        left_context = re.sub(r'[^\\w\\s-]', '', line[0])\n",
        "        right_context = re.sub(r'[^\\w\\s-]', '', line[2])\n",
        "        # Если левый и правый контексты не пустые, то достаем коллокации для левого/правого контекстов\n",
        "        # После этого записываем их в каунтер\n",
        "        if left_context != '':\n",
        "            left = left_context.split()[-1].lower()\n",
        "            collocation_left = left + ' ' + center\n",
        "            collocations[collocation_left] += 1\n",
        "        if right_context != '':\n",
        "            right = right_context.split()[0].lower()\n",
        "            collocation_right = center + ' ' + right\n",
        "            collocations[collocation_right] += 1\n",
        "            # Сохраняем в список коллокации и их частотность\n",
        "    return collocations\n"
      ]
    },
    {
      "cell_type": "markdown",
      "metadata": {
        "id": "VsdlFQkGE9lo"
      },
      "source": [
        "# 5. Итоговая программа"
      ]
    },
    {
      "cell_type": "markdown",
      "metadata": {
        "id": "IBfB2oUMERIN"
      },
      "source": [
        "### 5.1. Вывод найденных примеров"
      ]
    },
    {
      "cell_type": "markdown",
      "metadata": {
        "id": "2lhoYK4MIEaH"
      },
      "source": [
        "напишем функцию для выравнивая контекстов определенного примера"
      ]
    },
    {
      "cell_type": "code",
      "execution_count": null,
      "metadata": {
        "id": "oLtR2-nRER1x"
      },
      "outputs": [],
      "source": [
        "def pretty_line(c_left='', c_mid='', c_right='', maxlen_l=100, maxlen_m=30, maxlen_r=100, src='?'):\n",
        "    # принимает - левый, центральный и правый контексты, их максимальные длины и источник\n",
        "    # возвращает - строку в который все ровненько\n",
        "\n",
        "    # выравниваем левые контексты по правому краю\n",
        "    left_part = c_left.rjust(maxlen_l)\n",
        "    # выравниваем центральный контекст по левому краю\n",
        "    mid_part = c_mid.ljust(maxlen_m)\n",
        "    # выравниваем правые контексты по левому краю\n",
        "    right_part = c_right.ljust(maxlen_r)\n",
        "    return left_part + ' | ' + mid_part + ' | ' + right_part + ' || Предложение из ' + src"
      ]
    },
    {
      "cell_type": "markdown",
      "metadata": {
        "id": "HOwXOAR4el5X"
      },
      "source": [
        "напишем функцию, которая выводит все найденный примеры (выровнянные)"
      ]
    },
    {
      "cell_type": "code",
      "execution_count": null,
      "metadata": {
        "id": "twIUo1XFfCiR"
      },
      "outputs": [],
      "source": [
        "def get_all_pretty_lines(data):\n",
        "    # принимает - Counter содержащий коллокации\n",
        "    # возвращает - список, где каждую строку нужно просто напечатать\n",
        "\n",
        "    # найдем максимальную длину каждого контекста, чтобы выровнять\n",
        "    maxlen_left = len('Левый контекст')\n",
        "    maxlen_mid = len('Центральный контекст')\n",
        "    maxlen_right = len('Правый контекст')\n",
        "    for line in data:\n",
        "        maxlen_left = max(maxlen_left, len(line[0]))\n",
        "        maxlen_mid = max(maxlen_mid, len(line[1]))\n",
        "        maxlen_right = max(maxlen_right, len(line[2]))\n",
        "\n",
        "    lines_to_print = []  # результат работы функции\n",
        "    if not data:\n",
        "        return lines_to_print\n",
        "    # внесем шапку\n",
        "    lines_to_print.append(\n",
        "        'Левый контекст'.ljust(maxlen_left) + ' | ' + 'Центральный контекст'.ljust(maxlen_mid) + ' | ' +\n",
        "        'Правый контекст'.ljust(maxlen_right) + ' || ' + 'Источник')\n",
        "    # внесем примеры\n",
        "    for line in data:\n",
        "        lines_to_print.append(pretty_line(line[0], line[1], line[2], maxlen_left, maxlen_mid, maxlen_right, line[3]))\n",
        "    return lines_to_print"
      ]
    },
    {
      "cell_type": "markdown",
      "metadata": {
        "id": "rWbRBgNrEiHG"
      },
      "source": [
        "### 5.2. Вывод коллокаций"
      ]
    },
    {
      "cell_type": "code",
      "execution_count": null,
      "metadata": {
        "id": "PgzztEtMFHmw"
      },
      "outputs": [],
      "source": [
        "def get_pretty_collocations(data):\n",
        "    # принимает - список, где каждый элемент -\n",
        "    # список формата [Левый_контекст, Центральный_контекст, Правый_Контекст, Источник]\n",
        "    # возвращает - список, где каждую строку нужно просто напечатать\n",
        "\n",
        "    print_collocations = []  # результат работы функции\n",
        "    if not data:\n",
        "        return print_collocations\n",
        "    maxlen_collocation = len('Коллокация')\n",
        "    maxlen_frequency = len('Число вхождений')\n",
        "    for line in data.most_common():\n",
        "        maxlen_collocation = max(maxlen_collocation, len(line[0]))\n",
        "        maxlen_frequency = max(maxlen_frequency, len(str(line[1])))\n",
        "        # внесем шапку\n",
        "    print_collocations.append(\n",
        "        'Коллокация'.ljust(maxlen_collocation) + ' | ' + 'Число вхождений'.ljust(maxlen_frequency))\n",
        "    # внесем примеры\n",
        "    for line in data.most_common():\n",
        "        print_collocations.append(line[0].ljust(maxlen_collocation) + ' | ' + str(line[1]).ljust(maxlen_frequency))\n",
        "    return print_collocations\n"
      ]
    },
    {
      "cell_type": "markdown",
      "metadata": {
        "id": "1Fy3AS8EjVjV"
      },
      "source": [
        "###5.3. Взаимодействие с программой:"
      ]
    },
    {
      "cell_type": "markdown",
      "source": [
        "Вывод получается очень широкий, пожалуйста, пролистайте его вправо, чтобы увидеть центральные контексты"
      ],
      "metadata": {
        "id": "PODi2dcvgrXb"
      }
    },
    {
      "cell_type": "code",
      "execution_count": null,
      "metadata": {
        "id": "w73jpzAwM_mP",
        "colab": {
          "base_uri": "https://localhost:8080/"
        },
        "outputId": "0eca8b32-a64f-41e8-8a45-c85bdda68c3c"
      },
      "outputs": [
        {
          "output_type": "stream",
          "name": "stdout",
          "text": [
            "Введите, пожалуйста, ваш запрос:\n",
            "\n",
            "знать\n",
            "Вот какие примеры мы нашли по вашему запросу:\n",
            "Левый контекст                                                                                                                                                                                                                          | Центральный контекст | Правый контекст                                                                                                                                                                                                                                                                                                                                                                                                                                      || Источник\n",
            "                                                                                                                                                                                                                          —Ничего ты не | знаешь,              | ничего не ведаешь, а на свете много деется: живут себе дед да баба, у них курочка Ряба; снесла под полом яичко —пестро, востро, костяно, мудрено!                                                                                                                                                                                                                                                                                                    || Предложение из Курочка Ряба https://skazki-pesni.ru/kurochka-ryaba/\n",
            "                                                                                                                                                                                                                          —Ничего ты не | знаешь,              | ничего не ведаешь, а на свете много деется: живут себе дед да баба, у них курочка Ряба; снесла под полом яичко —пестро, востро, костяно, мудрено!                                                                                                                                                                                                                                                                                                    || Предложение из Курочка Ряба https://skazki-pesni.ru/kurochka-ryaba/\n",
            "                                                                                                                                                                                 Те братья работают, а Емеля целый день лежит на печке, | знать                | ничего не хочет.                                                                                                                                                                                                                                                                                                                                                                                                                                     || Предложение из По щучьему велению https://skazki-pesni.ru/po-shhuchemu-veleniyu/\n",
            "                                                                                                                                                                                                                       Лови его!» А он, | знай,                | сани погоняет.                                                                                                                                                                                                                                                                                                                                                                                                                                       || Предложение из По щучьему велению https://skazki-pesni.ru/po-shhuchemu-veleniyu/\n",
            "                                                                                                                                                                                                   Кругом лес, в какую сторону идти —не | знает,               | спросить не у кого….                                                                                                                                                                                                                                                                                                                                                                                                                                 || Предложение из Маша и медведь https://skazki-pesni.ru/masha-i-medved/\n",
            "                                                                                                                                                                                                        —Ладно, —хозяин отвечает, —буду | знать                | и своим закажу.                                                                                                                                                                                                                                                                                                                                                                                                                                      || Предложение из Умный работник https://skazki-pesni.ru/umnyj-rabotnik/\n",
            "                                                                                                                                                                                                                                      И | знать                | не знаю, и ведать не ведаю.                                                                                                                                                                                                                                                                                                                                                                                                                          || Предложение из Умный работник https://skazki-pesni.ru/umnyj-rabotnik/\n",
            "                                                                                                                                                                                                                             И знать не | знаю,                | и ведать не ведаю.                                                                                                                                                                                                                                                                                                                                                                                                                                   || Предложение из Умный работник https://skazki-pesni.ru/umnyj-rabotnik/\n",
            "                                                                                                                                                                                                              Жива буду —свидимся, умру | —так,                | знать, на роду написано.                                                                                                                                                                                                                                                                                                                                                                                                                             || Предложение из Финист ясный сокол https://skazki-pesni.ru/finist-yasnyj-sokol/\n",
            "                                                                                                                                                                                             Поклонилась Марьюшка царице и говорит: —Не | знаю,                | как вас звать, как величать, а не нужна ли вам будет работница?                                                                                                                                                                                                                                                                                                                                                                                      || Предложение из Финист ясный сокол https://skazki-pesni.ru/finist-yasnyj-sokol/\n",
            "                                                                                                                                                                                                                                     Вы | знаете,              | что есть на свете люди и хорошие, есть и похуже, есть и такие, которые бога не боятся, своего брата не стыдятся: к таким-то и попала Крошечка-Хаврошечка.                                                                                                                                                                                                                                                                                            || Предложение из Крошечка –Хаврошечка https://skazki-pesni.ru/kroshechka-havroshechka/\n",
            "                                                                                                                                                  Старшая звалась Одноглазка, средняя —Двуглазка, а меньшая —Триглазка; но они только и | знали                | у ворот сидеть, на улицу глядеть, а Крошечка-Хаврошечка на них работала, их обшивала, для них и пряла и ткала, а слова доброго никогда не слыхала.                                                                                                                                                                                                                                                                                                   || Предложение из Крошечка –Хаврошечка https://skazki-pesni.ru/kroshechka-havroshechka/\n",
            "                                                                                                                                                                                       И тут же дал сыновьям новый приказ: —Хочется мне | знать,               | как умеют ваши жены рукодельничать.                                                                                                                                                                                                                                                                                                                                                                                                                  || Предложение из Царевна-лягушка https://skazki-pesni.ru/tsarevna-lyagushka-3/\n",
            "                                                                                                                                                                                                        А к чему, зачем —того и сами не | знают.               |                                                                                                                                                                                                                                                                                                                                                                                                                                                      || Предложение из Царевна-лягушка https://skazki-pesni.ru/tsarevna-lyagushka-3/\n",
            "                                                                                                                                                                                                                                        | —Знаю,               | знаю!                                                                                                                                                                                                                                                                                                                                                                                                                                                || Предложение из Царевна-лягушка https://skazki-pesni.ru/tsarevna-lyagushka-3/\n",
            "                                                                                                                                                                                                                                 —Знаю, | знаю!                |                                                                                                                                                                                                                                                                                                                                                                                                                                                      || Предложение из Царевна-лягушка https://skazki-pesni.ru/tsarevna-lyagushka-3/\n",
            "                                                                                                                                                                                                       Смотрит Иван-царевич на дуб и не | знает,               | что ему делать, как ларец достать.                                                                                                                                                                                                                                                                                                                                                                                                                   || Предложение из Царевна-лягушка https://skazki-pesni.ru/tsarevna-lyagushka-3/\n",
            "                                                                                                                                                                                                                                     —Я | знаю,                | -говорит барин, -ты ее отдала.                                                                                                                                                                                                                                                                                                                                                                                                                       || Предложение из Вороватый мужик https://skazki-pesni.ru/vorovatyj-muzhik/\n",
            "                                                                                                                                                                                                                                    —Не | знаю,                | голубчик!                                                                                                                                                                                                                                                                                                                                                                                                                                            || Предложение из Вороватый мужик https://skazki-pesni.ru/vorovatyj-muzhik/\n",
            "                                                                                                                                                                                                         Едет домой, а лошадёнка такая, | знать,               | неудалая: везёт —не везёт!                                                                                                                                                                                                                                                                                                                                                                                                                           || Предложение из Иванушка-дурачок https://skazki-pesni.ru/ivanushka-durachok/\n",
            "                                                                                                                                                                                                                                        | «Знать,              | сестрицам поесть-покушать охота, что так раскричались!” –подумал дурачок.                                                                                                                                                                                                                                                                                                                                                                            || Предложение из Иванушка-дурачок https://skazki-pesni.ru/ivanushka-durachok/\n",
            "                                                                                                                                                                                                                                        | «Знать,              | без соли не хочет!» —и ну солить воду.                                                                                                                                                                                                                                                                                                                                                                                                               || Предложение из Иванушка-дурачок https://skazki-pesni.ru/ivanushka-durachok/\n",
            "                                                                                                                                                                                                                  –А стол-от бежит, да, | знать,               | отстал, из блюд сестрицы кушают, горшки да корчаги ребятам в лесу на головы понадевал, солью-то пойло лошади посолил; а ложки дразнятся –так я их на дороге кинул.                                                                                                                                                                                                                                                                                   || Предложение из Иванушка-дурачок https://skazki-pesni.ru/ivanushka-durachok/\n",
            "                                                                                                                                                                                                                                        | –Знать,              | бурка ловит!                                                                                                                                                                                                                                                                                                                                                                                                                                         || Предложение из Иванушка-дурачок https://skazki-pesni.ru/ivanushka-durachok/\n",
            "                                                                                                                                                        —Ну, —говорит царь, —отвечайте: к какому мастерству кто способен, какое ремесло | знаете?              |                                                                                                                                                                                                                                                                                                                                                                                                                                                      || Предложение из Семь Симеонов https://skazki-pesni.ru/sem-simeonov/\n",
            "                                                                                                                                                                                                        Пригорюнился седьмой Симеон: не | знает,               | как ему быть и что делать.                                                                                                                                                                                                                                                                                                                                                                                                                           || Предложение из Семь Симеонов https://skazki-pesni.ru/sem-simeonov/\n",
            "                                                                                                                                                                                   —Слезай же поскорее вниз и доставай царевну, как там | знаешь,              | чтоб была мне во что бы ни стало!                                                                                                                                                                                                                                                                                                                                                                                                                    || Предложение из Семь Симеонов https://skazki-pesni.ru/sem-simeonov/\n",
            "                                                                                                                                                                                                                                —Ну, не | знаю,                | почему она слабая….                                                                                                                                                                                                                                                                                                                                                                                                                                  || Предложение из Петр Великий и кузнец https://skazki-pesni.ru/petr-velikij-i-kuznets/\n",
            "                                                                                                                                                                                                                                     Ты | знаешь,              | кто я такой?                                                                                                                                                                                                                                                                                                                                                                                                                                         || Предложение из Петр Великий и кузнец https://skazki-pesni.ru/petr-velikij-i-kuznets/\n",
            "                                                                                                                                                                                                                               —Нет, не | знаю.                |                                                                                                                                                                                                                                                                                                                                                                                                                                                      || Предложение из Петр Великий и кузнец https://skazki-pesni.ru/petr-velikij-i-kuznets/\n",
            "                                                                                                                                                                           Там мальчики росли-подрастали, родимой матушки не видали, не | знали;               | а она, горемычная, плавала по морю по океану с подкидышком, и рос этот подкидышек не по дням, а по часам; скоро пришел в смысл, стал разумен и говорит: —Сударыня-матушка!                                                                                                                                                                                                                                                                           || Предложение из По колена ноги в золоте, по локоть руки в серебре https://skazki-pesni.ru/po-kolena-nogi-v-zolote-po-lokot-ruki-v-serebre/\n",
            "                                                                                                                                                                                Что бы там ни было, какие бы страсти ни представлялись- | знай                 | свое, читай да читай!                                                                                                                                                                                                                                                                                                                                                                                                                                || Предложение из Королева-ведьма https://skazki-pesni.ru/koroleva-vedma/\n",
            "                                                                                                                                                                                                                                 Она не | знает,               | куда полюбовника девать, и спрашивает: —Куда ж я тебя спрячу?                                                                                                                                                                                                                                                                                                                                                                                        || Предложение из Дорогая кожа https://skazki-pesni.ru/dorogaya-kozha/\n",
            "                                                                                                                                                                                                                          —А я и сам не | знаю.                |                                                                                                                                                                                                                                                                                                                                                                                                                                                      || Предложение из Поди туда — не знаю куда, принеси то — не знаю что https://skazki-pesni.ru/podi-tuda-ne-znayu-kuda-prinesi-to-ne-znayu-chto/\n",
            "                                                                                                                                                                                                                 Андрей его не слушает, | знай                 | охаживает прутом.                                                                                                                                                                                                                                                                                                                                                                                                                                    || Предложение из Поди туда — не знаю куда, принеси то — не знаю что https://skazki-pesni.ru/podi-tuda-ne-znayu-kuda-prinesi-to-ne-znayu-chto/\n",
            "                                                                                                                                                               —Ступай, —говорит, —к царю и скажи: пусть пошлет Андрея-стрелка туда —не | знаю                 | куда, принести то —не знаю что.                                                                                                                                                                                                                                                                                                                                                                                                                      || Предложение из Поди туда — не знаю куда, принеси то — не знаю что https://skazki-pesni.ru/podi-tuda-ne-znayu-kuda-prinesi-to-ne-znayu-chto/\n",
            "                                                                                                                                    —Ступай, —говорит, —к царю и скажи: пусть пошлет Андрея-стрелка туда —не знаю куда, принести то —не | знаю                 | что.                                                                                                                                                                                                                                                                                                                                                                                                                                                 || Предложение из Поди туда — не знаю куда, принеси то — не знаю что https://skazki-pesni.ru/podi-tuda-ne-znayu-kuda-prinesi-to-ne-znayu-chto/\n",
            "                                                                                                                                                                            —Сослужил ты мне две службы, сослужи третью: сходи туда —не | знаю                 | куда, принеси то —не знаю что.                                                                                                                                                                                                                                                                                                                                                                                                                       || Предложение из Поди туда — не знаю куда, принеси то — не знаю что https://skazki-pesni.ru/podi-tuda-ne-znayu-kuda-prinesi-to-ne-znayu-chto/\n",
            "                                                                                                                                                  —Сослужил ты мне две службы, сослужи третью: сходи туда —не знаю куда, принеси то —не | знаю                 | что.                                                                                                                                                                                                                                                                                                                                                                                                                                                 || Предложение из Поди туда — не знаю куда, принеси то — не знаю что https://skazki-pesni.ru/podi-tuda-ne-znayu-kuda-prinesi-to-ne-znayu-chto/\n",
            "                                                                                                                                                                                                           Велел мне царь идти туда —не | знаю                 | куда, принести то —не знаю что.                                                                                                                                                                                                                                                                                                                                                                                                                      || Предложение из Поди туда — не знаю куда, принеси то — не знаю что https://skazki-pesni.ru/podi-tuda-ne-znayu-kuda-prinesi-to-ne-znayu-chto/\n",
            "                                                                                                                                                                                Велел мне царь идти туда —не знаю куда, принести то —не | знаю                 | что.                                                                                                                                                                                                                                                                                                                                                                                                                                                 || Предложение из Поди туда — не знаю куда, принеси то — не знаю что https://skazki-pesni.ru/podi-tuda-ne-znayu-kuda-prinesi-to-ne-znayu-chto/\n",
            "                                                                                Марья-царевна их спрашивает: —Звери лесные, птицы поднебесные, —вы, звери, всюду рыскаете, вы, птицы, всюду летаете, —не слыхали ль, как дойти туда —не | знаю                 | куда, принести то —не знаю что?                                                                                                                                                                                                                                                                                                                                                                                                                      || Предложение из Поди туда — не знаю куда, принеси то — не знаю что https://skazki-pesni.ru/podi-tuda-ne-znayu-kuda-prinesi-to-ne-znayu-chto/\n",
            "                                                     Марья-царевна их спрашивает: —Звери лесные, птицы поднебесные, —вы, звери, всюду рыскаете, вы, птицы, всюду летаете, —не слыхали ль, как дойти туда —не знаю куда, принести то —не | знаю                 | что?                                                                                                                                                                                                                                                                                                                                                                                                                                                 || Предложение из Поди туда — не знаю куда, принеси то — не знаю что https://skazki-pesni.ru/podi-tuda-ne-znayu-kuda-prinesi-to-ne-znayu-chto/\n",
            "                                                                                                                               —Вы, гады и рыбы морские, вы везде плаваете, на всех островах бываете: не слыхали ль, как дойти туда —не | знаю                 | куда, принести то —не знаю что?                                                                                                                                                                                                                                                                                                                                                                                                                      || Предложение из Поди туда — не знаю куда, принеси то — не знаю что https://skazki-pesni.ru/podi-tuda-ne-znayu-kuda-prinesi-to-ne-znayu-chto/\n",
            "                                                                                                    —Вы, гады и рыбы морские, вы везде плаваете, на всех островах бываете: не слыхали ль, как дойти туда —не знаю куда, принести то —не | знаю                 | что?                                                                                                                                                                                                                                                                                                                                                                                                                                                 || Предложение из Поди туда — не знаю куда, принеси то — не знаю что https://skazki-pesni.ru/podi-tuda-ne-znayu-kuda-prinesi-to-ne-znayu-chto/\n",
            "                                                                                                                                                                       Андрей все рассказал: как женился и как царь послал его туда —не | знаю                 | куда, добыть то —не знаю что.                                                                                                                                                                                                                                                                                                                                                                                                                        || Предложение из Поди туда — не знаю куда, принеси то — не знаю что https://skazki-pesni.ru/podi-tuda-ne-znayu-kuda-prinesi-to-ne-znayu-chto/\n",
            "                                                                                                                                              Андрей все рассказал: как женился и как царь послал его туда —не знаю куда, добыть то —не | знаю                 | что.                                                                                                                                                                                                                                                                                                                                                                                                                                                 || Предложение из Поди туда — не знаю куда, принеси то — не знаю что https://skazki-pesni.ru/podi-tuda-ne-znayu-kuda-prinesi-to-ne-znayu-chto/\n",
            "                                                                                                                                                                                                                                        | Знает                | про это одна старая лягушка, живет она в болоте триста лет….                                                                                                                                                                                                                                                                                                                                                                                         || Предложение из Поди туда — не знаю куда, принеси то — не знаю что https://skazki-pesni.ru/podi-tuda-ne-znayu-kuda-prinesi-to-ne-znayu-chto/\n",
            "                                                                                                                                                                                Старая лягушка вышла из болота, баба-яга ее спрашивает: | —Знаешь              | ли, где то —не знаю что?                                                                                                                                                                                                                                                                                                                                                                                                                             || Предложение из Поди туда — не знаю куда, принеси то — не знаю что https://skazki-pesni.ru/podi-tuda-ne-znayu-kuda-prinesi-to-ne-znayu-chto/\n",
            "                                                                                                                                                         Старая лягушка вышла из болота, баба-яга ее спрашивает: —Знаешь ли, где то —не | знаю                 | что?                                                                                                                                                                                                                                                                                                                                                                                                                                                 || Предложение из Поди туда — не знаю куда, принеси то — не знаю что https://skazki-pesni.ru/podi-tuda-ne-znayu-kuda-prinesi-to-ne-znayu-chto/\n",
            "                                                                                                                                                                                                                                        | —Знаю.               |                                                                                                                                                                                                                                                                                                                                                                                                                                                      || Предложение из Поди туда — не знаю куда, принеси то — не знаю что https://skazki-pesni.ru/podi-tuda-ne-znayu-kuda-prinesi-to-ne-znayu-chto/\n",
            "                                                                                                                                                                                                 Зятю моему дана служба: пойти туда —не | знаю                 | куда, взять то —не знаю что.                                                                                                                                                                                                                                                                                                                                                                                                                         || Предложение из Поди туда — не знаю куда, принеси то — не знаю что https://skazki-pesni.ru/podi-tuda-ne-znayu-kuda-prinesi-to-ne-znayu-chto/\n",
            "                                                                                                                                                                         Зятю моему дана служба: пойти туда —не знаю куда, взять то —не | знаю                 | что.                                                                                                                                                                                                                                                                                                                                                                                                                                                 || Предложение из Поди туда — не знаю куда, принеси то — не знаю что https://skazki-pesni.ru/podi-tuda-ne-znayu-kuda-prinesi-to-ne-znayu-chto/\n",
            "                                                                                                                                                                                                                     Там найдешь то —не | знаю                 | что.                                                                                                                                                                                                                                                                                                                                                                                                                                                 || Предложение из Поди туда — не знаю куда, принеси то — не знаю что https://skazki-pesni.ru/podi-tuda-ne-znayu-kuda-prinesi-to-ne-znayu-chto/\n",
            "                                                                                                                                                                                             —Нет, меня никто не может видеть, я то —не | знаю                 | что.                                                                                                                                                                                                                                                                                                                                                                                                                                                 || Предложение из Поди туда — не знаю куда, принеси то — не знаю что https://skazki-pesni.ru/podi-tuda-ne-znayu-kuda-prinesi-to-ne-znayu-chto/\n",
            "                                                                                                                                               Дошел Андрей до огненной реки, там его дожидается лягушка: —Добрый молодец, нашел то —не | знаю                 | что?                                                                                                                                                                                                                                                                                                                                                                                                                                                 || Предложение из Поди туда — не знаю куда, принеси то — не знаю что https://skazki-pesni.ru/podi-tuda-ne-znayu-kuda-prinesi-to-ne-znayu-chto/\n",
            "                                                                                                                                                                                                                                   —Как | знаете,              | иначе меняться не стану.                                                                                                                                                                                                                                                                                                                                                                                                                             || Предложение из Поди туда — не знаю куда, принеси то — не знаю что https://skazki-pesni.ru/podi-tuda-ne-znayu-kuda-prinesi-to-ne-znayu-chto/\n",
            "                                                                                                                                                             Купцы-корабельщики вернулись на свои корабли и давай пировать —пьют, едят, | знай                 | покрикивают: —Сват Наум, поворачивайся, давай того, давай этого!                                                                                                                                                                                                                                                                                                                                                                                     || Предложение из Поди туда — не знаю куда, принеси то — не знаю что https://skazki-pesni.ru/podi-tuda-ne-znayu-kuda-prinesi-to-ne-znayu-chto/\n",
            "                                                                                                                                                                                                                         Живут, горя не | знают,               | и день, и другой, и третий.                                                                                                                                                                                                                                                                                                                                                                                                                          || Предложение из Поди туда — не знаю куда, принеси то — не знаю что https://skazki-pesni.ru/podi-tuda-ne-znayu-kuda-prinesi-to-ne-znayu-chto/\n",
            "                                                                                                                                                                   Еще пуще разгневался царь, посылает узнать, ходил ли Андрей туда —не | знаю                 | куда, принес ли то —не знаю что.                                                                                                                                                                                                                                                                                                                                                                                                                     || Предложение из Поди туда — не знаю куда, принеси то — не знаю что https://skazki-pesni.ru/podi-tuda-ne-znayu-kuda-prinesi-to-ne-znayu-chto/\n",
            "                                                                                                                                       Еще пуще разгневался царь, посылает узнать, ходил ли Андрей туда —не знаю куда, принес ли то —не | знаю                 | что.                                                                                                                                                                                                                                                                                                                                                                                                                                                 || Предложение из Поди туда — не знаю куда, принеси то — не знаю что https://skazki-pesni.ru/podi-tuda-ne-znayu-kuda-prinesi-to-ne-znayu-chto/\n",
            "                                                                                                                                                                Побежали гонцы, разведали и докладывают: —Андрей-стрелок ходил туда —не | знаю                 | куда и добыл то —не знаю что.                                                                                                                                                                                                                                                                                                                                                                                                                        || Предложение из Поди туда — не знаю куда, принеси то — не знаю что https://skazki-pesni.ru/podi-tuda-ne-znayu-kuda-prinesi-to-ne-znayu-chto/\n",
            "                                                                                                                                       Побежали гонцы, разведали и докладывают: —Андрей-стрелок ходил туда —не знаю куда и добыл то —не | знаю                 | что.                                                                                                                                                                                                                                                                                                                                                                                                                                                 || Предложение из Поди туда — не знаю куда, принеси то — не знаю что https://skazki-pesni.ru/podi-tuda-ne-znayu-kuda-prinesi-to-ne-znayu-chto/\n",
            "                                                                                                                                                                                                               Гуляет с детьми, а те не | знают,               | как его звать.                                                                                                                                                                                                                                                                                                                                                                                                                                       || Предложение из Трем-сын безымянный https://skazki-pesni.ru/trem-syn-bezymyannyj/\n",
            "                                                                                                                                                                                                      Задал царь такую задачу, что и не | знаю,                | как ее разгадать: хочет он, видишь, чтоб я Жар-птицу ему достал.                                                                                                                                                                                                                                                                                                                                                                                     || Предложение из Трем-сын безымянный https://skazki-pesni.ru/trem-syn-bezymyannyj/\n",
            "                                                                                                                                                                                                      Бьемся мы до полусмерти и даже не | знаем,               | за что.                                                                                                                                                                                                                                                                                                                                                                                                                                              || Предложение из Трем-сын безымянный https://skazki-pesni.ru/trem-syn-bezymyannyj/\n",
            "                                                                                                                                                                                                            Настасья ему говорит: –Кабы | знала                | я, что придется мне выходить замуж за самого царя, то взяла б я из окиян-моря всю свою красу, а то у меня при себе и половины ее нету.                                                                                                                                                                                                                                                                                                               || Предложение из Трем-сын безымянный https://skazki-pesni.ru/trem-syn-bezymyannyj/\n",
            "                                                                                                                                                                                     Растянули ее, сердечную, и начали потчевать; а она | знай                 | себе —и под розгами то же сказывает.                                                                                                                                                                                                                                                                                                                                                                                                                 || Предложение из Жена-доказчица https://skazki-pesni.ru/zhena-dokazchitsa/\n",
            "                                                                                                                                                                                                                                    —Не | знаю,                | голубчик!                                                                                                                                                                                                                                                                                                                                                                                                                                            || Предложение из Заколдованная королевна https://skazki-pesni.ru/zakoldovannaya-korolevna/\n",
            "                                                                                                                                                 Ступай ты за столько-то морей, за столько-то земель —там живет моя средняя сестра, она | знает                | больше моего; может, она тебе скажет.                                                                                                                                                                                                                                                                                                                                                                                                                || Предложение из Заколдованная королевна https://skazki-pesni.ru/zakoldovannaya-korolevna/\n",
            "                                                                                                                                                                                                                                     Не | знаешь               | ли, где найти мне прекрасную королевну?                                                                                                                                                                                                                                                                                                                                                                                                              || Предложение из Заколдованная королевна https://skazki-pesni.ru/zakoldovannaya-korolevna/\n",
            "                                                                                                                                                                                                                     —Нет, голубчик, не | знаю.                |                                                                                                                                                                                                                                                                                                                                                                                                                                                      || Предложение из Заколдованная королевна https://skazki-pesni.ru/zakoldovannaya-korolevna/\n",
            "                                                                                                                                                                                       Сколько лет на свете живешь, а доброго ничего не | знаешь.              |                                                                                                                                                                                                                                                                                                                                                                                                                                                      || Предложение из Заколдованная королевна https://skazki-pesni.ru/zakoldovannaya-korolevna/\n",
            "                                                                                                                                                                                               Ведь они по всему свету дуют, так должны | знать,               | где она теперь проживает.                                                                                                                                                                                                                                                                                                                                                                                                                            || Предложение из Заколдованная королевна https://skazki-pesni.ru/zakoldovannaya-korolevna/\n",
            "                                                                                                                                                                                                                          Только один я | знаю,                | как их оживить.                                                                                                                                                                                                                                                                                                                                                                                                                                      || Предложение из Солдат и колдун https://skazki-pesni.ru/soldat-i-koldun/\n",
            "                                                                                                                                                                                                    Перепелка говорит: —Кум-куманек, не | знаешь               | моего горя.                                                                                                                                                                                                                                                                                                                                                                                                                                          || Предложение из Волк, перепелка и дергун https://skazki-pesni.ru/volk-perepelka-i-dergun/\n",
            "                                                                                                                                                               Начнёт какой из них загадывать загадку, а царевна не дослушает и кричит: | —Знаю,               | знаю!                                                                                                                                                                                                                                                                                                                                                                                                                                                || Предложение из Наказанная царевна https://skazki-pesni.ru/nakazannaya-tsarevna/\n",
            "                                                                                                                                                        Начнёт какой из них загадывать загадку, а царевна не дослушает и кричит: —Знаю, | знаю!                |                                                                                                                                                                                                                                                                                                                                                                                                                                                      || Предложение из Наказанная царевна https://skazki-pesni.ru/nakazannaya-tsarevna/\n",
            "                                                                                                                                                                                              Царевна уж и за книжку свою не хватается: | знает,               | что не найти в ней отгадки.                                                                                                                                                                                                                                                                                                                                                                                                                          || Предложение из Наказанная царевна https://skazki-pesni.ru/nakazannaya-tsarevna/\n",
            "                                                                                                                                                                                                               Рассердилась царевна, не | знает,               | что и делать.                                                                                                                                                                                                                                                                                                                                                                                                                                        || Предложение из Наказанная царевна https://skazki-pesni.ru/nakazannaya-tsarevna/\n",
            "                                                                                                                                                                                 —Ты, видно, не нашего царства, —говорит царь, —коли не | знаешь,              | что у нас случилось!..                                                                                                                                                                                                                                                                                                                                                                                                                               || Предложение из Наказанная царевна https://skazki-pesni.ru/nakazannaya-tsarevna/\n",
            "                                                                                                                                                                               Тут я, добрый молодец трои сутки пролежал; никто меня не | знал,                | не видал, только знала-видала меня рогатая скотина —таракан да жужелица.                                                                                                                                                                                                                                                                                                                                                                             || Предложение из Стоит река вся из молока, берега из киселя https://skazki-pesni.ru/stoit-reka-vsya-iz-moloka-berega-iz-kiselya/\n",
            "                                                                                                               В некотором царстве, в некотором государстве жил-был матрос; служил царю верно, вел себя честно, потому и начальство его | знало.               |                                                                                                                                                                                                                                                                                                                                                                                                                                                      || Предложение из Морока https://skazki-pesni.ru/moroka/\n",
            "                                                                                                                                                                                                                                    —Не | знаю;                | что будет —то будет!                                                                                                                                                                                                                                                                                                                                                                                                                                 || Предложение из Морока https://skazki-pesni.ru/moroka/\n",
            "                                                                                                                                                                                                                                    Сам | знаешь,              | что я генерал, работать не умею.                                                                                                                                                                                                                                                                                                                                                                                                                     || Предложение из Морока https://skazki-pesni.ru/moroka/\n",
            "                                                                                                                                                                                                                                        | Знаешь               | ли ты ее?                                                                                                                                                                                                                                                                                                                                                                                                                                            || Предложение из Про нужду https://skazki-pesni.ru/pro-nuzhdu/\n",
            "                                                                                                                                                                                                                                 Ведь я | знаю,                | что царевич поехал к Елене Прекрасной свататься; только без меня ему не жениться, а разве головой поплатиться.                                                                                                                                                                                                                                                                                                                                       || Предложение из Вещий сон https://skazki-pesni.ru/veshhij-son/\n",
            "                                                                                                                                                                                                                                     —А | знаешь,              | царевич, —говорит ему Иван, —все, что с тобою случилося, мне было наперед ведомо, все это я во сне видел; оттого тебе и про сон не сказывал.                                                                                                                                                                                                                                                                                                         || Предложение из Вещий сон https://skazki-pesni.ru/veshhij-son/\n",
            "                                                                                                                                                                                                                                        | —Знать               | ничего не знаю!                                                                                                                                                                                                                                                                                                                                                                                                                                      || Предложение из Как старуха нашла лапоть https://skazki-pesni.ru/kak-staruha-nashla-lapot/\n",
            "                                                                                                                                                                                                                       —Знать ничего не | знаю!                |                                                                                                                                                                                                                                                                                                                                                                                                                                                      || Предложение из Как старуха нашла лапоть https://skazki-pesni.ru/kak-staruha-nashla-lapot/\n",
            "                                                                  Вот как поехал бедный за дровами, один из них настиг его окольной дорогой и говорит: —Поехал я, братец, в дальний путь; на дороге отдал мне должник триста рублей —не | знаю,                | куда их девать!                                                                                                                                                                                                                                                                                                                                                                                                                                      || Предложение из Мудрая девица и семь разбойников https://skazki-pesni.ru/mudraya-devitsa-i-sem-razbojnikov/\n",
            "                                                                                                                                                                                                                —Ох, добрый молодец, не | знаешь               | ты нашего горя, —отвечают ему.                                                                                                                                                                                                                                                                                                                                                                                                                       || Предложение из Сказка о славном, могучем богатыре Еруслане Лазаревиче https://skazki-pesni.ru/skazka-o-slavnom-moguchem-bogatyre-eruslane-lazareviche/\n",
            "                                                                                                                                                          Спасибо, что избавил меня от лютой смерти, и я прошу тебя, добрый молодец, не | знаю,                | как по имени звать-величать, поедем к моим родителям.                                                                                                                                                                                                                                                                                                                                                                                                || Предложение из Сказка о славном, могучем богатыре Еруслане Лазаревиче https://skazki-pesni.ru/skazka-o-slavnom-moguchem-bogatyre-eruslane-lazareviche/\n",
            "                                                                                                                                                                                                                      Отец с матерью не | знали,               | как и благодарить богатыря.                                                                                                                                                                                                                                                                                                                                                                                                                          || Предложение из Сказка о славном, могучем богатыре Еруслане Лазаревиче https://skazki-pesni.ru/skazka-o-slavnom-moguchem-bogatyre-eruslane-lazareviche/\n",
            "                                                                                                                                                                                                                      В играх удержу не | знает,               | кому руку, кому ногу оторвал.                                                                                                                                                                                                                                                                                                                                                                                                                        || Предложение из Сказка о славном, могучем богатыре Еруслане Лазаревиче https://skazki-pesni.ru/skazka-o-slavnom-moguchem-bogatyre-eruslane-lazareviche/\n",
            "                                                                                                                                                                                     —А мечей да доспехов ратных полон оружейный покой, | знай                 | выбирай!                                                                                                                                                                                                                                                                                                                                                                                                                                             || Предложение из Сказка о славном, могучем богатыре Еруслане Лазаревиче https://skazki-pesni.ru/skazka-o-slavnom-moguchem-bogatyre-eruslane-lazareviche/\n",
            "                                                                                                                                                                                                                               И почему | знаешь,              | как меня зовут?                                                                                                                                                                                                                                                                                                                                                                                                                                      || Предложение из Сказка о славном, могучем богатыре Еруслане Лазаревиче https://skazki-pesni.ru/skazka-o-slavnom-moguchem-bogatyre-eruslane-lazareviche/\n",
            "                                                                                                                                                                                                                    —Да как мне тебя не | знать!               |                                                                                                                                                                                                                                                                                                                                                                                                                                                      || Предложение из Сказка о славном, могучем богатыре Еруслане Лазаревиче https://skazki-pesni.ru/skazka-o-slavnom-moguchem-bogatyre-eruslane-lazareviche/\n",
            "                                                                                                                                                                                                                              Только не | знаю,                | сможешь ли ты его поймать?                                                                                                                                                                                                                                                                                                                                                                                                                           || Предложение из Сказка о славном, могучем богатыре Еруслане Лазаревиче https://skazki-pesni.ru/skazka-o-slavnom-moguchem-bogatyre-eruslane-lazareviche/\n",
            "                                                                                                                                 А Феодул Змеуланович нанес чести великую поруху, стал браниться, кричать: “Знать-де его, прощелыгу, не | знаю,                | ведать не ведаю и на глаза не пущу!                                                                                                                                                                                                                                                                                                                                                                                                                  || Предложение из Сказка о славном, могучем богатыре Еруслане Лазаревиче https://skazki-pesni.ru/skazka-o-slavnom-moguchem-bogatyre-eruslane-lazareviche/\n",
            "                                                                                                                                                                                              —Ивана, русского богатыря, я и сам хорошо | знаю.                |                                                                                                                                                                                                                                                                                                                                                                                                                                                      || Предложение из Сказка о славном, могучем богатыре Еруслане Лазаревиче https://skazki-pesni.ru/skazka-o-slavnom-moguchem-bogatyre-eruslane-lazareviche/\n",
            "                                                                                                                                                                      Выехал из города и призадумался: “Много времени я странствую и не | знаю,                | что дома творится.                                                                                                                                                                                                                                                                                                                                                                                                                                   || Предложение из Сказка о славном, могучем богатыре Еруслане Лазаревиче https://skazki-pesni.ru/skazka-o-slavnom-moguchem-bogatyre-eruslane-lazareviche/\n",
            "                                                                                                                                                                                                                                    —Не | знаешь               | ли ты, —спрашивает богатырь, —чья это рать-сила столь велика к нашему городу подступает?                                                                                                                                                                                                                                                                                                                                                             || Предложение из Сказка о славном, могучем богатыре Еруслане Лазаревиче https://skazki-pesni.ru/skazka-o-slavnom-moguchem-bogatyre-eruslane-lazareviche/\n",
            "                                                                                                                                                                                           Король Картаус прослезился и проговорил: —Не | знаю,                | чем отблагодарить тебя, Еруслан Лазаревич, за то, что спас ты нас всех и наш стольный город.                                                                                                                                                                                                                                                                                                                                                         || Предложение из Сказка о славном, могучем богатыре Еруслане Лазаревиче https://skazki-pesni.ru/skazka-o-slavnom-moguchem-bogatyre-eruslane-lazareviche/\n",
            "                                                                                                                                                                                                               Сам был молодой, по себе | знаю!                |                                                                                                                                                                                                                                                                                                                                                                                                                                                      || Предложение из Сказка о славном, могучем богатыре Еруслане Лазаревиче https://skazki-pesni.ru/skazka-o-slavnom-moguchem-bogatyre-eruslane-lazareviche/\n",
            "                                                                                                       Вышел на резное крыльцо, встретил богатыря приветливо, ласково и повел речь так: —Добро пожаловать, любезный гость, не взыщи, не | знаю,                | как тебя звать-величать.                                                                                                                                                                                                                                                                                                                                                                                                                             || Предложение из Сказка о славном, могучем богатыре Еруслане Лазаревиче https://skazki-pesni.ru/skazka-o-slavnom-moguchem-bogatyre-eruslane-lazareviche/\n",
            "                                                                                                                                                                                                                                 Видно, | знаешь               | меня, коли по имени называешь!                                                                                                                                                                                                                                                                                                                                                                                                                       || Предложение из Сказка о славном, могучем богатыре Еруслане Лазаревиче https://skazki-pesni.ru/skazka-o-slavnom-moguchem-bogatyre-eruslane-lazareviche/\n",
            "                                                                                                                                                                                                                              Ты еще не | знаешь,              | каков есть этот злодей Огненный щит, Пламенное копие.                                                                                                                                                                                                                                                                                                                                                                                                || Предложение из Сказка о славном, могучем богатыре Еруслане Лазаревиче https://skazki-pesni.ru/skazka-o-slavnom-moguchem-bogatyre-eruslane-lazareviche/\n",
            "                                                                                                                                                                                                                                     Не | знаю,                | как звать-величать.                                                                                                                                                                                                                                                                                                                                                                                                                                  || Предложение из Сказка о славном, могучем богатыре Еруслане Лазаревиче https://skazki-pesni.ru/skazka-o-slavnom-moguchem-bogatyre-eruslane-lazareviche/\n",
            "                                                                                                                                                                                                                                        | Знаем                | мы его!                                                                                                                                                                                                                                                                                                                                                                                                                                              || Предложение из Сказка о славном, могучем богатыре Еруслане Лазаревиче https://skazki-pesni.ru/skazka-o-slavnom-moguchem-bogatyre-eruslane-lazareviche/\n",
            "                                                                                                                                                                                                                                  Уж не | знаю,                | чем отблагодарить тебя.                                                                                                                                                                                                                                                                                                                                                                                                                              || Предложение из Сказка о славном, могучем богатыре Еруслане Лазаревиче https://skazki-pesni.ru/skazka-o-slavnom-moguchem-bogatyre-eruslane-lazareviche/\n",
            "                                                                                                                                                                                                  Не вникает в это Еруслан Ерусланович, | знай                 | стоит на своем.                                                                                                                                                                                                                                                                                                                                                                                                                                      || Предложение из Сказка о славном, могучем богатыре Еруслане Лазаревиче https://skazki-pesni.ru/skazka-o-slavnom-moguchem-bogatyre-eruslane-lazareviche/\n",
            "                                                                                                                                                                                Только есть у меня забота: про отца с матерью ничего не | знаю.                |                                                                                                                                                                                                                                                                                                                                                                                                                                                      || Предложение из Сказка о славном, могучем богатыре Еруслане Лазаревиче https://skazki-pesni.ru/skazka-o-slavnom-moguchem-bogatyre-eruslane-lazareviche/\n",
            "                                                                                                                                                                                                Жил кузнец припеваючи, никакого лиха не | знал.                |                                                                                                                                                                                                                                                                                                                                                                                                                                                      || Предложение из Лихо одноглазое https://skazki-pesni.ru/liho-odnoglazoe/\n",
            "                                                                                                                                                                                                  —У Лиха переночевал, —говорит кузнец, | —знаю                | я теперь, что такое лихо: и есть хочется, да не ешь, и спать хочется, да не спишь.                                                                                                                                                                                                                                                                                                                                                                   || Предложение из Лихо одноглазое https://skazki-pesni.ru/liho-odnoglazoe/\n",
            "                                                                                                                                                                                                                      Сами вы, батюшка, | знаете,              | что после ужина надо спать ложиться.                                                                                                                                                                                                                                                                                                                                                                                                                 || Предложение из Добрый поп https://skazki-pesni.ru/dobryj-pop-2/\n",
            "                                                                                                                                                                                                                                   И не | знаем                | мы, как три заветные вещи на двоих поделить.                                                                                                                                                                                                                                                                                                                                                                                                         || Предложение из Крестьянский сын Иван да царь Иван https://skazki-pesni.ru/krestyanskij-syn-ivan-da-tsar-ivan/\n",
            "                                                                                                                                                                                                                            —Вот теперь | знаю,                | чей голос со мной на корабле говорил.                                                                                                                                                                                                                                                                                                                                                                                                                || Предложение из Крестьянский сын Иван да царь Иван https://skazki-pesni.ru/krestyanskij-syn-ivan-da-tsar-ivan/\n",
            "                                                                                                                                                                                 Улетела стрела к облакам, а вернулась ли на землю, кто | знает!.              |                                                                                                                                                                                                                                                                                                                                                                                                                                                      || Предложение из Крестьянский сын Иван да царь Иван https://skazki-pesni.ru/krestyanskij-syn-ivan-da-tsar-ivan/\n",
            "                                                                                                                                                                                                                                        | Знать                | бы, что ты придешь, я бы давеча сам последней краюшки не ел, тебе бы оставил.                                                                                                                                                                                                                                                                                                                                                                        || Предложение из Иван Бесталанный и Елена Премудрая https://skazki-pesni.ru/ivan-bestalannyj-i-elena-premudraya/\n",
            "                                                                                                                                                                                                      Дедушка и ведет Ивана в одну избу | —знать,              | он тут хозяин.                                                                                                                                                                                                                                                                                                                                                                                                                                       || Предложение из Иван Бесталанный и Елена Премудрая https://skazki-pesni.ru/ivan-bestalannyj-i-elena-premudraya/\n",
            "Пойду-ка я в амбар да погляжу, что там есть, а жену не поведу!» Пошел Иван в тот амбар, что всегда взаперти стоял, открыл его, глядит —там золота много, кусками оно лежит, и камни, как жар, горят, и еще добро было, которому Иван не | знал                 | имени.                                                                                                                                                                                                                                                                                                                                                                                                                                               || Предложение из Иван Бесталанный и Елена Премудрая https://skazki-pesni.ru/ivan-bestalannyj-i-elena-premudraya/\n",
            "                                                                                                                                                                                                     Она тогда и плачет: —Ты, —говорит, | —знать,              | не любишь меня: доброе платье такое для жены жалеешь.                                                                                                                                                                                                                                                                                                                                                                                                || Предложение из Иван Бесталанный и Елена Премудрая https://skazki-pesni.ru/ivan-bestalannyj-i-elena-premudraya/\n",
            "                                                                                                                                                                                                                                        | Знать,               | платье она надела волшебное.                                                                                                                                                                                                                                                                                                                                                                                                                         || Предложение из Иван Бесталанный и Елена Премудрая https://skazki-pesni.ru/ivan-bestalannyj-i-elena-premudraya/\n",
            "                                                                                                                                                                 Житель отвечает Ивану: —У нас в царицах живет Елена Премудрая: она все | знает                | —у нее книга такая есть, где все написано, и она все видит —у нее зеркало такое есть.                                                                                                                                                                                                                                                                                                                                                                || Предложение из Иван Бесталанный и Елена Премудрая https://skazki-pesni.ru/ivan-bestalannyj-i-elena-premudraya/\n",
            "                                                                                                                                                                                                                                     Не | знала                | того царица, что от новой заглавной у буквы все слова в книге переменились.                                                                                                                                                                                                                                                                                                                                                                          || Предложение из Иван Бесталанный и Елена Премудрая https://skazki-pesni.ru/ivan-bestalannyj-i-elena-premudraya/\n",
            "                                                                                                                                                                                           Батюшка-то Елены дорогу ближнюю в ее царство | знал;                | они коротко шли и не притомились.                                                                                                                                                                                                                                                                                                                                                                                                                    || Предложение из Иван Бесталанный и Елена Премудрая https://skazki-pesni.ru/ivan-bestalannyj-i-elena-premudraya/\n",
            "                                                                                                                                     Киевский купец вынул двадцать тысяч и отдал московскому; тот взял, приезжает домой и говорит жене: | —Знаешь              | ли, что скажу?                                                                                                                                                                                                                                                                                                                                                                                                                                       || Предложение из Сосватанные дети https://skazki-pesni.ru/sosvatannye-deti/\n",
            "                                                                                                                                                               Тою же самою дорогою случилось ехать и полковнику; подъехал к мосту и не | знает,               | как ему перебраться на ту сторону?                                                                                                                                                                                                                                                                                                                                                                                                                   || Предложение из Сосватанные дети https://skazki-pesni.ru/sosvatannye-deti/\n",
            "                                                                                                                                                                                                                                 Мороз; | знать,               | бог тебя принес по мою душу грешную.                                                                                                                                                                                                                                                                                                                                                                                                                 || Предложение из Морозко https://skazki-pesni.ru/morozko/\n",
            "                                                                                                                                                                                                                                 Мороз; | знать,               | бог тебя принес по мою душу грешную.                                                                                                                                                                                                                                                                                                                                                                                                                 || Предложение из Морозко https://skazki-pesni.ru/morozko/\n",
            "                                                                                                                                                                                                                                —Кто их | знает.               |                                                                                                                                                                                                                                                                                                                                                                                                                                                      || Предложение из Алёнка https://skazki-pesni.ru/alyonka/\n",
            "                                                                                                                                                                                                                                        | —Знаешь,             | сестрица, знаете, братья, то ли это птичка на лугу щебечет, то ли это дивчина напевает.                                                                                                                                                                                                                                                                                                                                                              || Предложение из Алёнка https://skazki-pesni.ru/alyonka/\n",
            "                                                                                                                                                                                                                     —Знаешь, сестрица, | знаете,              | братья, то ли это птичка на лугу щебечет, то ли это дивчина напевает.                                                                                                                                                                                                                                                                                                                                                                                || Предложение из Алёнка https://skazki-pesni.ru/alyonka/\n",
            "                                                                                                                                                                                    Вот в такой-то муке прожил царь целые три года и не | знает,               | как ему оттудова вырваться, как дать о себе царице весточку?                                                                                                                                                                                                                                                                                                                                                                                         || Предложение из Царица гусляр https://skazki-pesni.ru/tsaritsa-guslyar/\n",
            "                                                                                             Была в лесу яма глубокая, конца-дна не видать; взял он —заклал ее сверху палочками, затрусил соломкою; приходит к жене и сказывает: —Ты не | знаешь,              | жена, как в лесу-то клад есть —и звенит, и гремит, и золотом рассыпается, а в руки никак не дается; я подошел было к нему, нос с носом стоял, дак мне не дался —посылай, говорит, жену!                                                                                                                                                                                                                                                              || Предложение из Худая жена https://skazki-pesni.ru/hudaya-zhena/\n",
            "                                                                                                                                                     А мальчик —ему было лет шесть тогда —посмотрел отцу с матерью в глаза и сказал: —Я | знаю,                | что соловей поет, да сказать боюсь.                                                                                                                                                                                                                                                                                                                                                                                                                  || Предложение из Птичий язык https://skazki-pesni.ru/ptichij-yazyk/\n",
            "                                                                                          Через неделю поехал мужик с горшками в город; сколько ни стоял он на базаре, никто не покупает; все обходят его мимо, да еще всячески ругают: | —Знаем               | мы твои горшки, старый хрен!                                                                                                                                                                                                                                                                                                                                                                                                                         || Предложение из Горшечник https://skazki-pesni.ru/gorshechnik/\n",
            "                                                                                                                                                         И весной на ветру, и летом в жару, и осенью в дождь, и зимой в мороз —только и | знает,               | топором машет, дрова рубит, под котёл подкладывает.                                                                                                                                                                                                                                                                                                                                                                                                  || Предложение из Слово https://skazki-pesni.ru/slovo/\n",
            "                                                                                                                                                                                                                     Кого слушаться, не | знает!               |                                                                                                                                                                                                                                                                                                                                                                                                                                                      || Предложение из Слово https://skazki-pesni.ru/slovo/\n",
            "                                                                                                                                                                                                                      Про то ты ведь не | знаешь,              | не ведаешь —А пробил я, Иван, буйну голову свою Со тобою, добрым конем; Бился с князем о велик заклад, А не о ста рублях, не о тысяче —Бился с ним о ста тысячах, Захвастался на триста жеребцов, А на три жеребца похваленые: Сив жеребец, да кологрив жеребец, И третей жеребец полонян Воронко; Бегати-скакать на добрых на конях, Из Киева скакать до Чернигова Промежу обедни-заутрени, Ускоки давать кониные, Что выметывать раздолья широкие. || Предложение из Иван-гостиный сын https://skazki-pesni.ru/ivan-gostinyj-syn/\n",
            "                                                                                                                                                                                                                                        | «Знать,              | братья мои кашу варят».                                                                                                                                                                                                                                                                                                                                                                                                                              || Предложение из Золотой конь https://skazki-pesni.ru/zolotoj-kon/\n",
            "                                                                                                                                                                                                   Приходят к старику: —Ты, батюшка, не | знаешь,              | какой наш Иван хитрый.                                                                                                                                                                                                                                                                                                                                                                                                                               || Предложение из Золотой конь https://skazki-pesni.ru/zolotoj-kon/\n",
            "                                                                                                                                                                                                                    Ничего я об этом не | знаю.                |                                                                                                                                                                                                                                                                                                                                                                                                                                                      || Предложение из Золотой конь https://skazki-pesni.ru/zolotoj-kon/\n",
            "                                                                                                                                                                                                                            —Как так не | знаешь?              |                                                                                                                                                                                                                                                                                                                                                                                                                                                      || Предложение из Золотой конь https://skazki-pesni.ru/zolotoj-kon/\n",
            "                                                                                                                                                                                             А те в ответ: —Ох, батюшка, Иван не то еще | знает.               |                                                                                                                                                                                                                                                                                                                                                                                                                                                      || Предложение из Золотой конь https://skazki-pesni.ru/zolotoj-kon/\n",
            "                                                                                                                                                                                                                                 Что он | знает,               | ребята?                                                                                                                                                                                                                                                                                                                                                                                                                                              || Предложение из Золотой конь https://skazki-pesni.ru/zolotoj-kon/\n",
            "                                                                                                                                                                                                          —Он нам, батюшка, говорил: «Я | знаю,                | где гуслисамоигры достать».                                                                                                                                                                                                                                                                                                                                                                                                                          || Предложение из Золотой конь https://skazki-pesni.ru/zolotoj-kon/\n",
            "                                                                                                                                                                                                                           —Я, родимый, | знаю,                | где эта диковинка.                                                                                                                                                                                                                                                                                                                                                                                                                                   || Предложение из Золотой конь https://skazki-pesni.ru/zolotoj-kon/\n",
            "                                                                                                                                                                                                                  Старший брат говорит: | —Знаете              | что, ребята?                                                                                                                                                                                                                                                                                                                                                                                                                                         || Предложение из Золотой конь https://skazki-pesni.ru/zolotoj-kon/\n",
            "                                                                                                                                                                                        Пошли они к старику: —Ты, батюшка, еще всего не | знаешь               | про хитрость Ивана.                                                                                                                                                                                                                                                                                                                                                                                                                                  || Предложение из Золотой конь https://skazki-pesni.ru/zolotoj-kon/\n",
            "                                                                                                                                                                                                                                        | Знать                | не знаю ничего о Марье-королевне!                                                                                                                                                                                                                                                                                                                                                                                                                    || Предложение из Золотой конь https://skazki-pesni.ru/zolotoj-kon/\n",
            "                                                                                                                                                                                                                               Знать не | знаю                 | ничего о Марье-королевне!                                                                                                                                                                                                                                                                                                                                                                                                                            || Предложение из Золотой конь https://skazki-pesni.ru/zolotoj-kon/\n",
            "                                                                                                                                                                                                                                        | Знай,                | что одолели меня морские кобылицы.                                                                                                                                                                                                                                                                                                                                                                                                                   || Предложение из Золотой конь https://skazki-pesni.ru/zolotoj-kon/\n",
            "                                                                                                                                                                                      —Что же ты, мой любимый хозяин, спишь и ничего не | знаешь,              | не ведаешь.                                                                                                                                                                                                                                                                                                                                                                                                                                          || Предложение из Добрыня Никитич https://skazki-pesni.ru/dobrynya-nikitich/\n",
            "                                                                                                                                                                                                      И стал он жить, ни в чем нужды не | знать                | с тех пор, как барина обдурил.                                                                                                                                                                                                                                                                                                                                                                                                                       || Предложение из Барин и собака https://skazki-pesni.ru/barin-i-sobaka/\n",
            "                                                                          —Хорошо, ваше шкабродие: у семи дворов один топор, и тот без обуха, и трое вороти все на огород, и одни не запираются, а другие не затворяются, а третьи чорт | знает                | где валяются.                                                                                                                                                                                                                                                                                                                                                                                                                                        || Предложение из Помещик и староста https://skazki-pesni.ru/pomeshhik-i-starosta/\n",
            "                                                                                                                                                                                                                            А того и не | знают…               | что у меня в горшке-то есть!                                                                                                                                                                                                                                                                                                                                                                                                                         || Предложение из Солдатская загадка https://skazki-pesni.ru/soldatskaya-zagadka/\n",
            "                                                                                                                                                                                                                                    —Не | знаю!                |                                                                                                                                                                                                                                                                                                                                                                                                                                                      || Предложение из Скатерть, баранчик и сума https://skazki-pesni.ru/skatert-baranchik-i-suma/\n",
            "                                                                                                                                                                                                                                 —А, не | знаешь,              | так и помощи у меня не проси!                                                                                                                                                                                                                                                                                                                                                                                                                        || Предложение из Скатерть, баранчик и сума https://skazki-pesni.ru/skatert-baranchik-i-suma/\n",
            "                                                                                                                                                                                                                                        | Знаешь               | ли, где ваши бабы жнут?                                                                                                                                                                                                                                                                                                                                                                                                                              || Предложение из Медведь, собака и кошка https://skazki-pesni.ru/medved-sobaka-i-koshka/\n",
            "                                                                                                                                                                                                                                        | —Знаю.               |                                                                                                                                                                                                                                                                                                                                                                                                                                                      || Предложение из Медведь, собака и кошка https://skazki-pesni.ru/medved-sobaka-i-koshka/\n",
            "                                                                                                                                                                                                                          С жиру сам не | знаешь,              | что делаешь; таки после вкусной говядины станешь ты жрать старое и худое песье мясо?                                                                                                                                                                                                                                                                                                                                                                 || Предложение из Волк дурень https://skazki-pesni.ru/volk-duren/\n",
            "                                                                                                                                                                                                                   Ну, уж теперь я буду | знать,               | что делать!                                                                                                                                                                                                                                                                                                                                                                                                                                          || Предложение из Волк дурень https://skazki-pesni.ru/volk-duren/\n",
            "                                                                                                                                                                                                                                     Не | знаю,                | чем буде тебя пожаловать За твои за утехи за великие, За твою-то игру нежную: Аль бессчетной золотой казной?                                                                                                                                                                                                                                                                                                                                         || Предложение из Садко https://skazki-pesni.ru/sadko-bylina/\n",
            "                                                                                                                                                                                                                                    Как | знаю                 | чудо-чудное в Ильмень-озере: А есть рыба —золоты перья в Ильмень-озере!                                                                                                                                                                                                                                                                                                                                                                              || Предложение из Садко https://skazki-pesni.ru/sadko-bylina/\n",
            "                                                                                                                                                                           Как тут-то купцы новогородские Говорят ему таковы слова: —Не | знаешь               | ты чуда-чудного, Не может быть в Ильмень-озере рыбы —золоты перья.                                                                                                                                                                                                                                                                                                                                                                                   || Предложение из Садко https://skazki-pesni.ru/sadko-bylina/\n",
            " \n",
            "А еще у нас получились вот такие коллокации с вот такими частотностями:\n",
            "Коллокация           | Число вхождений\n",
            "не знаю              | 47             \n",
            "не знаешь            | 18             \n",
            "знаю что             | 17             \n",
            "знаю куда            | 10             \n",
            "не знает             | 9              \n",
            "знаю как             | 6              \n",
            "знаешь ли            | 6              \n",
            "я знаю               | 5              \n",
            "не знают             | 4              \n",
            "знаю знаю            | 4              \n",
            "знать не             | 3              \n",
            "знаете что           | 3              \n",
            "знает что            | 3              \n",
            "знает как            | 3              \n",
            "знаешь что           | 3              \n",
            "не знал              | 3              \n",
            "знаю чем             | 3              \n",
            "знаем мы             | 3              \n",
            "знаешь ничего        | 2              \n",
            "знать ничего         | 2              \n",
            "буду знать           | 2              \n",
            "знаю голубчик        | 2              \n",
            "не знали             | 2              \n",
            "не знаем             | 2              \n",
            "знаешь ты            | 2              \n",
            "не знать             | 2              \n",
            "мороз знать          | 2              \n",
            "знать бог            | 2              \n",
            "знаешь не            | 2              \n",
            "знаю где             | 2              \n",
            "печке знать          | 1              \n",
            "он знай              | 1              \n",
            "знай сани            | 1              \n",
            "знает спросить       | 1              \n",
            "знать и              | 1              \n",
            "и знать              | 1              \n",
            "знаю и               | 1              \n",
            "умру так             | 1              \n",
            "так знать            | 1              \n",
            "вы знаете            | 1              \n",
            "и знали              | 1              \n",
            "знали у              | 1              \n",
            "мне знать            | 1              \n",
            "знать как            | 1              \n",
            "знаю -говорит        | 1              \n",
            "такая знать          | 1              \n",
            "знать неудалая       | 1              \n",
            "знать сестрицам      | 1              \n",
            "знать без            | 1              \n",
            "да знать             | 1              \n",
            "знать отстал         | 1              \n",
            "знать бурка          | 1              \n",
            "ремесло знаете       | 1              \n",
            "там знаешь           | 1              \n",
            "знаешь чтоб          | 1              \n",
            "знаю почему          | 1              \n",
            "ты знаешь            | 1              \n",
            "знаешь кто           | 1              \n",
            "знали а              | 1              \n",
            "представлялись- знай | 1              \n",
            "знай свое            | 1              \n",
            "знает куда           | 1              \n",
            "слушает знай         | 1              \n",
            "знай охаживает       | 1              \n",
            "знает про            | 1              \n",
            "спрашивает знаешь    | 1              \n",
            "как знаете           | 1              \n",
            "знаете иначе         | 1              \n",
            "едят знай            | 1              \n",
            "знай покрикивают     | 1              \n",
            "знают и              | 1              \n",
            "знают как            | 1              \n",
            "знаем за             | 1              \n",
            "кабы знала           | 1              \n",
            "знала я              | 1              \n",
            "она знай             | 1              \n",
            "знай себе            | 1              \n",
            "она знает            | 1              \n",
            "знает больше         | 1              \n",
            "должны знать         | 1              \n",
            "знать где            | 1              \n",
            "знаешь моего         | 1              \n",
            "кричит знаю          | 1              \n",
            "хватается знает      | 1              \n",
            "знал не              | 1              \n",
            "его знало            | 1              \n",
            "сам знаешь           | 1              \n",
            "а знаешь             | 1              \n",
            "знаешь царевич       | 1              \n",
            "знали как            | 1              \n",
            "знает кому           | 1              \n",
            "покой знай           | 1              \n",
            "знай выбирай         | 1              \n",
            "почему знаешь        | 1              \n",
            "знаешь как           | 1              \n",
            "знаю сможешь         | 1              \n",
            "знаю ведать          | 1              \n",
            "хорошо знаю          | 1              \n",
            "себе знаю            | 1              \n",
            "видно знаешь         | 1              \n",
            "знаешь меня          | 1              \n",
            "знаешь каков         | 1              \n",
            "ерусланович знай     | 1              \n",
            "знай стоит           | 1              \n",
            "кузнец знаю          | 1              \n",
            "знаю я               | 1              \n",
            "батюшка знаете       | 1              \n",
            "теперь знаю          | 1              \n",
            "знаю чей             | 1              \n",
            "кто знает            | 1              \n",
            "знать бы             | 1              \n",
            "избу знать           | 1              \n",
            "знать он             | 1              \n",
            "знал имени           | 1              \n",
            "говорит знать        | 1              \n",
            "знать платье         | 1              \n",
            "все знает            | 1              \n",
            "знает у              | 1              \n",
            "не знала             | 1              \n",
            "знала того           | 1              \n",
            "царство знал         | 1              \n",
            "знал они             | 1              \n",
            "жене знаешь          | 1              \n",
            "их знает             | 1              \n",
            "знаешь сестрица      | 1              \n",
            "сестрица знаете      | 1              \n",
            "знаете братья        | 1              \n",
            "знаешь жена          | 1              \n",
            "ругают знаем         | 1              \n",
            "и знает              | 1              \n",
            "знает топором        | 1              \n",
            "знать братья         | 1              \n",
            "знаешь какой         | 1              \n",
            "еще знает            | 1              \n",
            "он знает             | 1              \n",
            "знает ребята         | 1              \n",
            "родимый знаю         | 1              \n",
            "говорит знаете       | 1              \n",
            "знаешь про           | 1              \n",
            "знаю ничего          | 1              \n",
            "знай что             | 1              \n",
            "знать с              | 1              \n",
            "чорт знает           | 1              \n",
            "знает где            | 1              \n",
            "знают что            | 1              \n",
            "знаешь так           | 1              \n",
            "знать что            | 1              \n",
            "как знаю             | 1              \n",
            "знаю чудо-чудное     | 1              \n"
          ]
        }
      ],
      "source": [
        "# Запрос от пользователя и вывод результата\n",
        "print('Введите, пожалуйста, ваш запрос:')\n",
        "print()\n",
        "Q = input()\n",
        "examples = search(Q, corpus_data)\n",
        "if not examples:\n",
        "    print('По вашему запросу ничего не найдено')\n",
        "else:\n",
        "    print('Вот какие примеры мы нашли по вашему запросу:')\n",
        "    for line in get_all_pretty_lines(examples):\n",
        "        print(line)\n",
        "    print(' ')\n",
        "    print('А еще у нас получились вот такие коллокации с вот такими частотностями:')\n",
        "    collocation_frequency = get_collocations(examples)\n",
        "    pretty_collocations = get_pretty_collocations(collocation_frequency)\n",
        "    for collocation in pretty_collocations:\n",
        "      print(collocation)"
      ]
    }
  ],
  "metadata": {
    "colab": {
      "provenance": []
    },
    "kernelspec": {
      "display_name": "Python 3",
      "name": "python3"
    },
    "language_info": {
      "codemirror_mode": {
        "name": "ipython",
        "version": 3
      },
      "file_extension": ".py",
      "mimetype": "text/x-python",
      "name": "python",
      "nbconvert_exporter": "python",
      "pygments_lexer": "ipython3",
      "version": "3.10.11"
    },
    "widgets": {
      "application/vnd.jupyter.widget-state+json": {
        "afa5acb23c204d5f85bc68b72f8e6f95": {
          "model_module": "@jupyter-widgets/controls",
          "model_name": "HBoxModel",
          "model_module_version": "1.5.0",
          "state": {
            "_dom_classes": [],
            "_model_module": "@jupyter-widgets/controls",
            "_model_module_version": "1.5.0",
            "_model_name": "HBoxModel",
            "_view_count": null,
            "_view_module": "@jupyter-widgets/controls",
            "_view_module_version": "1.5.0",
            "_view_name": "HBoxView",
            "box_style": "",
            "children": [
              "IPY_MODEL_c44ab72806c243aca4019d526f7151fe",
              "IPY_MODEL_5491e76ec0ce4cdebe6048374197d156",
              "IPY_MODEL_be579c20f3ad4efab25169c15d3607ac"
            ],
            "layout": "IPY_MODEL_67285d3baf3940c789529d1a9e7209ec"
          }
        },
        "c44ab72806c243aca4019d526f7151fe": {
          "model_module": "@jupyter-widgets/controls",
          "model_name": "HTMLModel",
          "model_module_version": "1.5.0",
          "state": {
            "_dom_classes": [],
            "_model_module": "@jupyter-widgets/controls",
            "_model_module_version": "1.5.0",
            "_model_name": "HTMLModel",
            "_view_count": null,
            "_view_module": "@jupyter-widgets/controls",
            "_view_module_version": "1.5.0",
            "_view_name": "HTMLView",
            "description": "",
            "description_tooltip": null,
            "layout": "IPY_MODEL_bdb0f3157cd041199d66b2f19f5ca7c2",
            "placeholder": "​",
            "style": "IPY_MODEL_3a06449cd23a4ee4b188d7131439dceb",
            "value": "100%"
          }
        },
        "5491e76ec0ce4cdebe6048374197d156": {
          "model_module": "@jupyter-widgets/controls",
          "model_name": "FloatProgressModel",
          "model_module_version": "1.5.0",
          "state": {
            "_dom_classes": [],
            "_model_module": "@jupyter-widgets/controls",
            "_model_module_version": "1.5.0",
            "_model_name": "FloatProgressModel",
            "_view_count": null,
            "_view_module": "@jupyter-widgets/controls",
            "_view_module_version": "1.5.0",
            "_view_name": "ProgressView",
            "bar_style": "success",
            "description": "",
            "description_tooltip": null,
            "layout": "IPY_MODEL_23f00a7ce71a4782bf19487aad447d9f",
            "max": 2,
            "min": 0,
            "orientation": "horizontal",
            "style": "IPY_MODEL_3708f271f91e4832bd532064c0eca604",
            "value": 2
          }
        },
        "be579c20f3ad4efab25169c15d3607ac": {
          "model_module": "@jupyter-widgets/controls",
          "model_name": "HTMLModel",
          "model_module_version": "1.5.0",
          "state": {
            "_dom_classes": [],
            "_model_module": "@jupyter-widgets/controls",
            "_model_module_version": "1.5.0",
            "_model_name": "HTMLModel",
            "_view_count": null,
            "_view_module": "@jupyter-widgets/controls",
            "_view_module_version": "1.5.0",
            "_view_name": "HTMLView",
            "description": "",
            "description_tooltip": null,
            "layout": "IPY_MODEL_ceb2619a6a1746559396105d8bfadfdb",
            "placeholder": "​",
            "style": "IPY_MODEL_df1e84c10ff44dbea6f23c7263f5c4c9",
            "value": " 2/2 [01:19&lt;00:00, 39.81s/it]"
          }
        },
        "67285d3baf3940c789529d1a9e7209ec": {
          "model_module": "@jupyter-widgets/base",
          "model_name": "LayoutModel",
          "model_module_version": "1.2.0",
          "state": {
            "_model_module": "@jupyter-widgets/base",
            "_model_module_version": "1.2.0",
            "_model_name": "LayoutModel",
            "_view_count": null,
            "_view_module": "@jupyter-widgets/base",
            "_view_module_version": "1.2.0",
            "_view_name": "LayoutView",
            "align_content": null,
            "align_items": null,
            "align_self": null,
            "border": null,
            "bottom": null,
            "display": null,
            "flex": null,
            "flex_flow": null,
            "grid_area": null,
            "grid_auto_columns": null,
            "grid_auto_flow": null,
            "grid_auto_rows": null,
            "grid_column": null,
            "grid_gap": null,
            "grid_row": null,
            "grid_template_areas": null,
            "grid_template_columns": null,
            "grid_template_rows": null,
            "height": null,
            "justify_content": null,
            "justify_items": null,
            "left": null,
            "margin": null,
            "max_height": null,
            "max_width": null,
            "min_height": null,
            "min_width": null,
            "object_fit": null,
            "object_position": null,
            "order": null,
            "overflow": null,
            "overflow_x": null,
            "overflow_y": null,
            "padding": null,
            "right": null,
            "top": null,
            "visibility": null,
            "width": null
          }
        },
        "bdb0f3157cd041199d66b2f19f5ca7c2": {
          "model_module": "@jupyter-widgets/base",
          "model_name": "LayoutModel",
          "model_module_version": "1.2.0",
          "state": {
            "_model_module": "@jupyter-widgets/base",
            "_model_module_version": "1.2.0",
            "_model_name": "LayoutModel",
            "_view_count": null,
            "_view_module": "@jupyter-widgets/base",
            "_view_module_version": "1.2.0",
            "_view_name": "LayoutView",
            "align_content": null,
            "align_items": null,
            "align_self": null,
            "border": null,
            "bottom": null,
            "display": null,
            "flex": null,
            "flex_flow": null,
            "grid_area": null,
            "grid_auto_columns": null,
            "grid_auto_flow": null,
            "grid_auto_rows": null,
            "grid_column": null,
            "grid_gap": null,
            "grid_row": null,
            "grid_template_areas": null,
            "grid_template_columns": null,
            "grid_template_rows": null,
            "height": null,
            "justify_content": null,
            "justify_items": null,
            "left": null,
            "margin": null,
            "max_height": null,
            "max_width": null,
            "min_height": null,
            "min_width": null,
            "object_fit": null,
            "object_position": null,
            "order": null,
            "overflow": null,
            "overflow_x": null,
            "overflow_y": null,
            "padding": null,
            "right": null,
            "top": null,
            "visibility": null,
            "width": null
          }
        },
        "3a06449cd23a4ee4b188d7131439dceb": {
          "model_module": "@jupyter-widgets/controls",
          "model_name": "DescriptionStyleModel",
          "model_module_version": "1.5.0",
          "state": {
            "_model_module": "@jupyter-widgets/controls",
            "_model_module_version": "1.5.0",
            "_model_name": "DescriptionStyleModel",
            "_view_count": null,
            "_view_module": "@jupyter-widgets/base",
            "_view_module_version": "1.2.0",
            "_view_name": "StyleView",
            "description_width": ""
          }
        },
        "23f00a7ce71a4782bf19487aad447d9f": {
          "model_module": "@jupyter-widgets/base",
          "model_name": "LayoutModel",
          "model_module_version": "1.2.0",
          "state": {
            "_model_module": "@jupyter-widgets/base",
            "_model_module_version": "1.2.0",
            "_model_name": "LayoutModel",
            "_view_count": null,
            "_view_module": "@jupyter-widgets/base",
            "_view_module_version": "1.2.0",
            "_view_name": "LayoutView",
            "align_content": null,
            "align_items": null,
            "align_self": null,
            "border": null,
            "bottom": null,
            "display": null,
            "flex": null,
            "flex_flow": null,
            "grid_area": null,
            "grid_auto_columns": null,
            "grid_auto_flow": null,
            "grid_auto_rows": null,
            "grid_column": null,
            "grid_gap": null,
            "grid_row": null,
            "grid_template_areas": null,
            "grid_template_columns": null,
            "grid_template_rows": null,
            "height": null,
            "justify_content": null,
            "justify_items": null,
            "left": null,
            "margin": null,
            "max_height": null,
            "max_width": null,
            "min_height": null,
            "min_width": null,
            "object_fit": null,
            "object_position": null,
            "order": null,
            "overflow": null,
            "overflow_x": null,
            "overflow_y": null,
            "padding": null,
            "right": null,
            "top": null,
            "visibility": null,
            "width": null
          }
        },
        "3708f271f91e4832bd532064c0eca604": {
          "model_module": "@jupyter-widgets/controls",
          "model_name": "ProgressStyleModel",
          "model_module_version": "1.5.0",
          "state": {
            "_model_module": "@jupyter-widgets/controls",
            "_model_module_version": "1.5.0",
            "_model_name": "ProgressStyleModel",
            "_view_count": null,
            "_view_module": "@jupyter-widgets/base",
            "_view_module_version": "1.2.0",
            "_view_name": "StyleView",
            "bar_color": null,
            "description_width": ""
          }
        },
        "ceb2619a6a1746559396105d8bfadfdb": {
          "model_module": "@jupyter-widgets/base",
          "model_name": "LayoutModel",
          "model_module_version": "1.2.0",
          "state": {
            "_model_module": "@jupyter-widgets/base",
            "_model_module_version": "1.2.0",
            "_model_name": "LayoutModel",
            "_view_count": null,
            "_view_module": "@jupyter-widgets/base",
            "_view_module_version": "1.2.0",
            "_view_name": "LayoutView",
            "align_content": null,
            "align_items": null,
            "align_self": null,
            "border": null,
            "bottom": null,
            "display": null,
            "flex": null,
            "flex_flow": null,
            "grid_area": null,
            "grid_auto_columns": null,
            "grid_auto_flow": null,
            "grid_auto_rows": null,
            "grid_column": null,
            "grid_gap": null,
            "grid_row": null,
            "grid_template_areas": null,
            "grid_template_columns": null,
            "grid_template_rows": null,
            "height": null,
            "justify_content": null,
            "justify_items": null,
            "left": null,
            "margin": null,
            "max_height": null,
            "max_width": null,
            "min_height": null,
            "min_width": null,
            "object_fit": null,
            "object_position": null,
            "order": null,
            "overflow": null,
            "overflow_x": null,
            "overflow_y": null,
            "padding": null,
            "right": null,
            "top": null,
            "visibility": null,
            "width": null
          }
        },
        "df1e84c10ff44dbea6f23c7263f5c4c9": {
          "model_module": "@jupyter-widgets/controls",
          "model_name": "DescriptionStyleModel",
          "model_module_version": "1.5.0",
          "state": {
            "_model_module": "@jupyter-widgets/controls",
            "_model_module_version": "1.5.0",
            "_model_name": "DescriptionStyleModel",
            "_view_count": null,
            "_view_module": "@jupyter-widgets/base",
            "_view_module_version": "1.2.0",
            "_view_name": "StyleView",
            "description_width": ""
          }
        }
      }
    }
  },
  "nbformat": 4,
  "nbformat_minor": 0
}